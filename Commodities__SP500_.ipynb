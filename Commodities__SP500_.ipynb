{
  "cells": [
    {
      "cell_type": "markdown",
      "metadata": {
        "id": "jMzkK0qDjexo"
      },
      "source": [
        "# import"
      ]
    },
    {
      "cell_type": "code",
      "execution_count": 2,
      "metadata": {
        "colab": {
          "base_uri": "https://localhost:8080/"
        },
        "id": "mW9oiAQhnmo1",
        "outputId": "72997288-8718-4e11-9add-a6298e3cb031"
      },
      "outputs": [
        {
          "output_type": "stream",
          "name": "stdout",
          "text": [
            "100\n"
          ]
        }
      ],
      "source": [
        "from pandas_datareader import data\n",
        "import plotly.express as px\n",
        "from sklearn.metrics import classification_report\n",
        "# Plotting \n",
        "import matplotlib.pyplot as plt\n",
        "import seaborn\n",
        "import matplotlib.mlab as mlab\n",
        "\n",
        "# Statistical calculation\n",
        "from scipy.stats import norm\n",
        "\n",
        "\n",
        "from numpy import log as ln\n",
        "import numpy as np\n",
        "from math import *\n",
        "import datetime\n",
        "import seaborn as sn\n",
        "import seaborn as sns # data visualization library  \n",
        "from numpy.random import seed\n",
        "from numpy.random import randn\n",
        "from numpy import mean\n",
        "from numpy import std\n",
        "\n",
        "\n",
        "from scipy.stats import shapiro\n",
        "\n",
        "\n",
        "\n",
        "import pandas as pd \n",
        "print(abs(-100))"
      ]
    },
    {
      "cell_type": "code",
      "source": [
        "#hello  raed"
      ],
      "metadata": {
        "id": "wmxRsjObxkYM"
      },
      "execution_count": null,
      "outputs": []
    },
    {
      "cell_type": "code",
      "execution_count": null,
      "metadata": {
        "id": "vBwzy5xAxa0t"
      },
      "outputs": [],
      "source": [
        "from scipy.cluster.hierarchy import dendrogram, linkage,fcluster\n",
        "import plotly.figure_factory as ff\n",
        "import scipy.cluster.hierarchy as shc\n",
        "import numpy as np\n",
        "import plotly.express as px\n",
        "from sklearn.cluster import AgglomerativeClustering\n",
        "from sklearn.neighbors import NearestNeighbors"
      ]
    },
    {
      "cell_type": "code",
      "execution_count": null,
      "metadata": {
        "id": "pqa--EdiO533"
      },
      "outputs": [],
      "source": [
        "#pip install plotly==5.3.1"
      ]
    },
    {
      "cell_type": "code",
      "execution_count": null,
      "metadata": {
        "id": "5s9M3ciCxa0u"
      },
      "outputs": [],
      "source": [
        "import os\n",
        "cwd = os.getcwd()"
      ]
    },
    {
      "cell_type": "code",
      "execution_count": null,
      "metadata": {
        "id": "6qIY-eQixa0u",
        "outputId": "0869096b-481b-47bb-eb90-886532c367a8"
      },
      "outputs": [
        {
          "data": {
            "text/plain": [
              "'c:\\\\Users\\\\raedc\\\\Desktop\\\\python doc\\\\mlops\\\\Identifying-States-of-a-Financial-Market'"
            ]
          },
          "execution_count": 3,
          "metadata": {},
          "output_type": "execute_result"
        }
      ],
      "source": [
        "cwd"
      ]
    },
    {
      "cell_type": "code",
      "execution_count": null,
      "metadata": {
        "id": "vCgJirNWjhLm"
      },
      "outputs": [],
      "source": [
        "from sklearn.cluster import KMeans\n",
        "from sklearn.preprocessing import MinMaxScaler\n",
        "from sklearn.preprocessing import StandardScaler\n",
        "from sklearn.preprocessing import RobustScaler\n",
        "import matplotlib.pyplot as plt\n",
        "from mpl_toolkits.mplot3d import Axes3D\n",
        "import matplotlib\n",
        "\n",
        "\n",
        "\n",
        "from sklearn.metrics import pairwise_distances_argmin_min\n",
        "from sklearn.metrics.pairwise import euclidean_distances"
      ]
    },
    {
      "cell_type": "code",
      "execution_count": null,
      "metadata": {
        "id": "swuncSSNIiqy"
      },
      "outputs": [],
      "source": [
        "! pip install investpy\n",
        "import investpy\n"
      ]
    },
    {
      "cell_type": "markdown",
      "metadata": {
        "id": "rGZr6EAFRZGh"
      },
      "source": [
        "# sp500 data * comm"
      ]
    },
    {
      "cell_type": "code",
      "execution_count": null,
      "metadata": {
        "id": "d9biNtBqyxOi"
      },
      "outputs": [],
      "source": [
        "def KMENAS_2D(data,n_clust,f1,f2):\n",
        "    list_center=[]\n",
        "    kmeans = KMeans(n_clusters=n_clust,n_init =25, random_state=90)\n",
        "    kmeans.fit(data)\n",
        "    #print(metrics.silhouette_score(np.reshape(list(target), (1000,-1)),kmeans.labels_))\n",
        "    plt.figure('K-means with 2 clusters', figsize=(15,10))\n",
        "    plt.scatter(data[f1], data[f2], c=kmeans.labels_  ,cmap=\"tab10\")\n",
        "    sns.scatterplot(kmeans.cluster_centers_[:, 0], kmeans.cluster_centers_[:, 1], color = 'red', \n",
        "                  label = 'Centroids',s=300,marker='*')\n",
        "    plt.show()\n",
        "    closest, _f = pairwise_distances_argmin_min(kmeans.cluster_centers_,data)\n",
        "    #print(\"cluster 0: \"+ str(closest[0]))\n",
        "    #print(\"cluster 0: \"+ str(closest[1]))\n",
        "    #print(\"cluster 0: \"+ str(closest[2]))\n",
        "    for i in range(n_clust):\n",
        "      list_center.append(closest[i])\n",
        "    \n",
        "    return kmeans.labels_,list_center\n",
        "    "
      ]
    },
    {
      "cell_type": "code",
      "execution_count": null,
      "metadata": {
        "id": "a1IZyZIct0ue"
      },
      "outputs": [],
      "source": [
        "\n",
        "\n",
        "def elbow_method(X):\n",
        "  distortions = []\n",
        "  for i in range(1, 11):\n",
        "      km = KMeans(\n",
        "          n_clusters=i, init='random',\n",
        "          n_init=10, max_iter=300,\n",
        "          tol=1e-04, random_state=0\n",
        "      )\n",
        "      km.fit(X)\n",
        "      distortions.append(km.inertia_)\n",
        "\n",
        "  # plot\n",
        "  plt.plot(range(1, 11), distortions, marker='o')\n",
        "  plt.xlabel('Number of clusters')\n",
        "  plt.ylabel('Distortion')\n",
        "  plt.show()\n"
      ]
    },
    {
      "cell_type": "code",
      "execution_count": null,
      "metadata": {
        "id": "Sjrtek844iW-"
      },
      "outputs": [],
      "source": [
        "elbow_method(matrix)"
      ]
    },
    {
      "cell_type": "code",
      "execution_count": null,
      "metadata": {
        "id": "hj4_Se3lkKb-"
      },
      "outputs": [],
      "source": [
        "labels_,list_center=KMENAS_2D(matrix,4,\"2020-11-05\",\"2012-02-02\")"
      ]
    },
    {
      "cell_type": "markdown",
      "metadata": {
        "id": "7U7SSA9Ez3i3"
      },
      "source": [
        ""
      ]
    },
    {
      "cell_type": "code",
      "execution_count": null,
      "metadata": {
        "id": "-G4su3vgvSX1"
      },
      "outputs": [],
      "source": [
        ""
      ]
    },
    {
      "cell_type": "code",
      "execution_count": null,
      "metadata": {
        "id": "UX3nTWSADVic"
      },
      "outputs": [],
      "source": [
        "ll=[0, 0, 1, 1, 2, 1, 1, 0, 0, 1, 1, 3, 0, 0, 0, 1, 0, 0, 0, 3, 3, 3,\n",
        "       3, 3, 2, 3, 3, 0, 3, 3, 3, 3, 3, 0, 3, 0, 2, 3, 3, 3, 3, 0, 0, 0,\n",
        "       0, 3, 0, 0, 2, 2, 0, 0, 0, 2, 2, 0, 0, 3, 3, 3, 3, 0, 3, 3, 3, 3,\n",
        "       3, 3, 3, 3, 3, 3, 0, 0, 0, 3, 0, 0, 0, 1, 3, 0, 0, 0, 0, 3, 0, 0,\n",
        "       2, 3, 2, 2, 3, 2, 2, 3, 2, 1, 1, 0, 2, 1, 0, 0, 0, 1, 2]"
      ]
    },
    {
      "cell_type": "code",
      "execution_count": null,
      "metadata": {
        "id": "yMeAsnaYDdeE"
      },
      "outputs": [],
      "source": [
        "pd.DataFrame(data=ll,columns=[\"e\"]).value_counts()"
      ]
    },
    {
      "cell_type": "code",
      "execution_count": null,
      "metadata": {
        "id": "CGF_b4B8xa00"
      },
      "outputs": [],
      "source": [
        "\n",
        "SP_500_data = pd.read_csv('SP_500_data_commodities_data.csv')\n",
        "SP_500_data=SP_500_data.set_index('Date')\n",
        "SP_500_data=SP_500_data.drop(columns=\"Unnamed: 0\")\n",
        "\n",
        "SP_500_data=SP_500_data.loc[\"2005-01-01\":]\n",
        "\n",
        "SP_500_data_return=SP_500_data.pct_change()[1:-1]\n",
        "#SP_500_data_return=SP_500_data_return.fillna(0)\n",
        "SP_500_data_return.head()"
      ]
    },
    {
      "cell_type": "code",
      "execution_count": null,
      "metadata": {
        "id": "Q-23Af2bxa01"
      },
      "outputs": [],
      "source": [
        "SP_500_data_return"
      ]
    },
    {
      "cell_type": "markdown",
      "metadata": {
        "id": "K1INCblVxa02"
      },
      "source": [
        "# new _ sp500"
      ]
    },
    {
      "cell_type": "code",
      "execution_count": null,
      "metadata": {
        "id": "I62_61JFxa02"
      },
      "outputs": [],
      "source": [
        "\n",
        "SP_500_data = pd.read_csv('SP_500_update.csv')\n",
        "SP_500_data=SP_500_data.set_index('Date')\n",
        "SP_500_data=SP_500_data.drop(columns=\"Unnamed: 0\")"
      ]
    },
    {
      "cell_type": "code",
      "execution_count": null,
      "metadata": {
        "id": "whIfycxnxa03"
      },
      "outputs": [],
      "source": [
        "SP_500_data=SP_500_data.loc[\"2005-01-01\":]\n",
        "\n",
        "SP_500_data_return=SP_500_data.pct_change()[1:-1]\n",
        "#SP_500_data_return=SP_500_data_return.fillna(0)\n",
        "SP_500_data_return.head()"
      ]
    },
    {
      "cell_type": "code",
      "execution_count": null,
      "metadata": {
        "id": "iufucKDCxa03"
      },
      "outputs": [],
      "source": [
        "for i in range(SP_500_data_return.shape[0]-13,):\n",
        "  f=batchnorm_forward(SP_500_data_return[i:i+13],)\n",
        "  SP_500_data_return.iloc[i]= f.iloc[0]"
      ]
    },
    {
      "cell_type": "code",
      "execution_count": null,
      "metadata": {
        "id": "NZ5Ikd4qxa03"
      },
      "outputs": [],
      "source": [
        "plot_serie(SP_500_data[[\"AAPL\",\"GOOGL\"]])"
      ]
    },
    {
      "cell_type": "code",
      "execution_count": null,
      "metadata": {
        "id": "fZjGYLCaxa04"
      },
      "outputs": [],
      "source": [
        ""
      ]
    },
    {
      "cell_type": "code",
      "execution_count": null,
      "metadata": {
        "id": "rqc9OXuLxa04"
      },
      "outputs": [],
      "source": [
        "def correlations_plot_and_data(year, month_start, month_end):\n",
        "\n",
        "  data_m =data_to_cluste_month(SP_500_data_return,year,month_start,month_end)\n",
        "  data_m=data_m.dropna(axis=1)\n",
        "  correlations = data_m.corr()\n",
        "  #correlations[np.arange(correlations.shape[0])[:,None] > np.arange(correlations.shape[1])] = np.nan\n",
        "  #ndf = correlations.unstack().to_frame().T\n",
        "  #ndf.columns = ndf.columns.map('{0[0]}_{0[1]}'.format) \n",
        "  #ndf.index=[data_m.index[0]]\n",
        "\n",
        "\n",
        "\n",
        "\n",
        "  fig = px.imshow(correlations,\n",
        "                labels=dict(x=\"Russell_Commodities\", y=\"Russell_Commodities\", color=\"correlations\"),\n",
        "                x=correlations.index.to_list(),\n",
        "                y=correlations.columns.to_list()\n",
        "               )\n",
        "  fig.update_layout(\n",
        "      autosize=False,\n",
        "      width=1000,\n",
        "      height=1000,)\n",
        "  fig.show() \n",
        "\n",
        "  return correlations\n",
        "\n",
        "\n",
        "def correlations_plot_and_data__2(year, month_start, month_end):\n",
        "\n",
        "  data_m =data_to_cluste_month(SP_500_data_return,year,month_start,month_end)\n",
        "  #data_m=data_m.dropna(axis=1)\n",
        "  #data_m=data_m.fillna(0)  \n",
        "  correlations = data_m.corr(method='pearson')\n",
        "  #correlations[np.arange(correlations.shape[0])[:,None] > np.arange(correlations.shape[1])] = np.nan\n",
        "  #ndf = correlations.unstack().to_frame().T\n",
        "  #ndf.columns = ndf.columns.map('{0[0]}_{0[1]}'.format) \n",
        "  #ndf.index=[data_m.index[0]]\n",
        "\n",
        "\n",
        "  return correlations\n",
        "\n",
        "\n"
      ]
    },
    {
      "cell_type": "code",
      "execution_count": null,
      "metadata": {
        "id": "2_o85eo4xa04"
      },
      "outputs": [],
      "source": [
        "def data_month_just_one(rendement_all_years,year,month):\n",
        "      response_year1 =year\n",
        "      response_year2 = year\n",
        "      array=[]\n",
        "      for i in range(int(response_year1),int(response_year2)+1):\n",
        "        array.append(i)\n",
        "      rendement_all_years['year'] = pd.DatetimeIndex(rendement_all_years.index).year\n",
        "      \n",
        "      dataf=rendement_all_years[rendement_all_years['year'].isin(array)]  \n",
        "\n",
        "      response_month1 = month\n",
        "      response_month2 = month\n",
        "      array=[]\n",
        "      for i in range(int(response_month1),int(response_month2)+1):\n",
        "        array.append(i)\n",
        "      dataf['month'] = pd.DatetimeIndex(dataf.index).month\n",
        "      \n",
        "      datafv=dataf[dataf['month'].isin(array)]  \n",
        "      \n",
        "      datafv=datafv.drop(columns=[\"year\"])\n",
        "      datafv=datafv.drop(columns=[\"month\"])\n",
        "   \n",
        "    \n",
        "      return datafv\n",
        "\n",
        "def data_to_cluste_month(rendement_all_years,year,month_start, month_end):\n",
        "      response_year1 =year\n",
        "      response_year2 = year\n",
        "      array=[]\n",
        "      for i in range(int(response_year1),int(response_year2)+1):\n",
        "        array.append(i)\n",
        "      rendement_all_years['year'] = pd.DatetimeIndex(rendement_all_years.index).year\n",
        "      \n",
        "      dataf=rendement_all_years[rendement_all_years['year'].isin(array)]  \n",
        "\n",
        "      response_month1 = month_start\n",
        "      response_month2 = month_end\n",
        "      array=[]\n",
        "      for i in range(int(response_month1),int(response_month2)+1):\n",
        "        array.append(i)\n",
        "      dataf['month'] = pd.DatetimeIndex(dataf.index).month\n",
        "      \n",
        "      datafv=dataf[dataf['month'].isin(array)] \n",
        "      \n",
        "      datafv=datafv.drop(columns=[\"year\"])\n",
        "      datafv=datafv.drop(columns=[\"month\"])\n",
        "    \n",
        "    \n",
        "      return datafv\n",
        "     \n",
        "     "
      ]
    },
    {
      "cell_type": "code",
      "execution_count": null,
      "metadata": {
        "id": "RaI48rUkxa05"
      },
      "outputs": [],
      "source": [
        "dat_test=data_to_cluste_month(SP_500_data_return,2015,2,7)\n",
        "#dat_test=dat_test.fillna(0)\n",
        "\n",
        "#plt.figure(figsize=(15,10))\n",
        "correlations = dat_test.corr(method='pearson')\n",
        "#sns.heatmap(round(correlations,2),   cmap=\"PiYG\",)\n",
        "\n",
        "# cmap=\"Blues\"\n",
        "# cmap=\"YlGnBu\"\n",
        "# cmap=\"BuPu\"\n",
        "# cmap=\"Greens\"\n",
        "# cmap=\"PiYG\"\n",
        "\n",
        "\n",
        "fig = px.imshow(correlations,\n",
        "            labels=dict(x=\"Russell_Commodities\", y=\"Russell_Commodities\", color=\"correlations\"),\n",
        "            x=correlations.index.to_list(),\n",
        "            y=correlations.columns.to_list()\n",
        "            )\n",
        "fig.update_layout(\n",
        "    autosize=False,\n",
        "    width=700,\n",
        "    height=800,)\n",
        "fig.show() "
      ]
    },
    {
      "cell_type": "code",
      "execution_count": null,
      "metadata": {
        "id": "uGa-x3Hnxa06"
      },
      "outputs": [],
      "source": [
        "#month=[1,2,3,4,5,6,7,8,9,10,11,12]\n",
        "#month=[1,7]  +5\n",
        "month=[1,3,5,7,9,11,] # +1\n",
        "year=[2005,2006,2007,2008,2009,2010,2011,2012,2013,2014,2015,2016,2017,2018,2019,2020]\n",
        "\n",
        "dara_for_clust=pd.DataFrame()\n",
        "for yy in year:\n",
        "  for mo in month:\n",
        "    #data_m=data_month_just_one(return_sp500_test_data_drive,yy,mo)\n",
        "    data_m =data_to_cluste_month(SP_500_data_return,yy,mo,mo+1)\n",
        "    #data_m=data_m.dropna(axis=1)\n",
        "    \n",
        "    correlations = data_m.corr()\n",
        "    correlations=correlations.fillna(0)  \n",
        "    #correlations[np.arange(correlations.shape[0])[:,None] > np.arange(correlations.shape[1])] = np.nan\n",
        "    ndf = correlations.unstack().to_frame().T\n",
        "    ndf.columns = ndf.columns.map('{0[0]}_{0[1]}'.format) \n",
        "    ndf.index=[data_m.index[0]]\n",
        "    #ndf=ndf.dropna(axis=1)\n",
        "    dara_for_clust=dara_for_clust.append(ndf)\n"
      ]
    },
    {
      "cell_type": "code",
      "execution_count": null,
      "metadata": {
        "id": "yXsX5I85xa06"
      },
      "outputs": [],
      "source": [
        "dara_for_clust"
      ]
    },
    {
      "cell_type": "code",
      "execution_count": null,
      "metadata": {
        "id": "mzfAojDqxa06"
      },
      "outputs": [],
      "source": [
        "lt=[]\n",
        "matrix=pd.DataFrame(columns=dara_for_clust.index.to_list())\n",
        "for j in range(dara_for_clust.shape[0]):\n",
        "  print(j)\n",
        "  lt=[]\n",
        "  for i in range(dara_for_clust.shape[0]):\n",
        "    similarity=abs(dara_for_clust.iloc[j]-dara_for_clust.iloc[i]).mean()\n",
        "    lt.append(similarity)\n",
        "  matrix = matrix.append(pd.DataFrame([lt], columns=dara_for_clust.index.to_list()),ignore_index=True)\n",
        "\n",
        "\n",
        "matrix.index=matrix.columns\n"
      ]
    },
    {
      "cell_type": "code",
      "execution_count": null,
      "metadata": {
        "id": "pA45El1kxa06"
      },
      "outputs": [],
      "source": [
        "  #diff\n",
        "  fig = px.imshow(matrix,\n",
        "                labels=dict(x=\"Russell_Commodities\", y=\"Russell_Commodities\", color=\"correlations\"),\n",
        "                x=matrix.index.to_list(),\n",
        "                y=matrix.columns.to_list()\n",
        "               )\n",
        "  fig.update_layout(\n",
        "      autosize=False,\n",
        "      width=1000,\n",
        "      height=800,)\n",
        "  fig.show() "
      ]
    },
    {
      "cell_type": "code",
      "execution_count": null,
      "metadata": {
        "id": "yUn8B7ZDxa07"
      },
      "outputs": [],
      "source": [
        "\n",
        "  fig = px.imshow(matrix,\n",
        "                labels=dict(x=\"Russell_Commodities\", y=\"Russell_Commodities\", color=\"correlations\"),\n",
        "                x=matrix.index.to_list(),\n",
        "                y=matrix.columns.to_list()\n",
        "               )\n",
        "  fig.update_layout(\n",
        "      autosize=False,\n",
        "      width=1000,\n",
        "      height=800,)\n",
        "  fig.show() "
      ]
    },
    {
      "cell_type": "markdown",
      "metadata": {
        "id": "cxMz3zD1xa07"
      },
      "source": [
        "## elbow_method"
      ]
    },
    {
      "cell_type": "code",
      "execution_count": null,
      "metadata": {
        "id": "CWCiOxH9xa07"
      },
      "outputs": [],
      "source": [
        "elbow_method(matrix)\n",
        "\n"
      ]
    },
    {
      "cell_type": "code",
      "execution_count": null,
      "metadata": {
        "id": "OHRFAR1Fxa08"
      },
      "outputs": [],
      "source": [
        "def CAH(data):\n",
        "    fig = ff.create_dendrogram(data,\n",
        "                           linkagefun = lambda x: shc.linkage(x, \"ward\"),\n",
        "                           labels=matrix.columns.to_list(),\n",
        "                           orientation=\"left\")\n",
        "\n",
        "    fig.update_yaxes(constraintoward=\"left\")\n",
        "\n",
        "    fig.update_layout(width=1000, height=1000)\n",
        "    fig.show()\n",
        "    \n"
      ]
    },
    {
      "cell_type": "code",
      "execution_count": null,
      "metadata": {
        "id": "5A8IYMMfxa08"
      },
      "outputs": [],
      "source": [
        "CAH(matrix)"
      ]
    },
    {
      "cell_type": "code",
      "execution_count": null,
      "metadata": {
        "id": "bC0rhBbfxa08"
      },
      "outputs": [],
      "source": [
        "matrix=matrix[-12:]"
      ]
    },
    {
      "cell_type": "code",
      "execution_count": null,
      "metadata": {
        "id": "L69DmsOUxa08"
      },
      "outputs": [],
      "source": [
        "labels_,list_center=KMENAS_2D(matrix,9,\"2005-01-04\",\"2020-11-02\")\n",
        "\n"
      ]
    },
    {
      "cell_type": "code",
      "execution_count": null,
      "metadata": {
        "id": "sFKLVETBxa09"
      },
      "outputs": [],
      "source": [
        "matrix=matrix[matrix.index.to_list()]"
      ]
    },
    {
      "cell_type": "code",
      "execution_count": null,
      "metadata": {
        "id": "-z8qNBjDxa09"
      },
      "outputs": [],
      "source": [
        "data_with_label=pd.DataFrame()\n",
        "dataset = pd.DataFrame({'classe':labels_ }, index=matrix.index)\n",
        "frame=[matrix,dataset]\n",
        "data_with_label=pd.concat(frame, axis=1)\n",
        "data_with_label"
      ]
    },
    {
      "cell_type": "code",
      "execution_count": null,
      "metadata": {
        "id": "-QbU5O0jxa09"
      },
      "outputs": [],
      "source": [
        "data_with_label[\"classe\"].to_frame().value_counts()"
      ]
    },
    {
      "cell_type": "code",
      "execution_count": null,
      "metadata": {
        "id": "9RepgLSuxa09"
      },
      "outputs": [],
      "source": [
        "def get_date_of_clustr_rows(clus):\n",
        "  t= pd.DataFrame(columns=[\"year\",\"month\"])\n",
        "  for i in clus:\n",
        "    s=i.split(\"-\",2)\n",
        "    if s[1].startswith(\"0\"):\n",
        "      s[1]=s[1][1:]\n",
        "\n",
        "    t=t.append(pd.DataFrame(data=[[int(s[0]),int(s[1])]], columns=[\"year\",\"month\"]))  \n",
        "\n",
        "  t=t.reset_index()\n",
        "  return t\n"
      ]
    },
    {
      "cell_type": "code",
      "execution_count": null,
      "metadata": {
        "id": "LzYuvGEOxa0-"
      },
      "outputs": [],
      "source": [
        "def plot_stat(label):\n",
        "    claster_0=data_with_label[data_with_label[\"classe\"]==label]\n",
        "    claster_0=claster_0.index.to_list()\n",
        "\n",
        "    z=np.zeros((506 ,506 ))\n",
        "    culst_matrix=pd.DataFrame(data=z, columns=SP_500_data_return.columns, index=SP_500_data_return.columns)\n",
        "    clus_dat=get_date_of_clustr_rows(claster_0)\n",
        "    for i in range(clus_dat.shape[0]):\n",
        "        corr=correlations_plot_and_data__2(clus_dat[\"year\"][i],clus_dat[\"month\"][i],clus_dat[\"month\"][i]+1).fillna(0)\n",
        "        culst_matrix=culst_matrix+corr\n",
        "\n",
        "\n",
        "    culst_matrix=culst_matrix[SP_500_data_return.columns]\n",
        "    culst_matrix=culst_matrix.reindex(culst_matrix.columns)\n",
        "\n",
        "    culst_matrix=culst_matrix.dropna(axis=1,how=\"all\")\n",
        "    c=culst_matrix.loc[culst_matrix.columns,:]\n",
        "    c=c/clus_dat.shape[0]\n",
        "\n",
        "    fig = px.imshow(c,\n",
        "                labels=dict(x=\"Russell_Commodities\", y=\"Russell_Commodities\", color=\"correlations\"),\n",
        "                x=c.index.to_list(),\n",
        "                y=c.columns.to_list()\n",
        "                )\n",
        "    fig.update_layout(\n",
        "        autosize=False,\n",
        "        width=800,\n",
        "        height=700,)\n",
        "    fig.show() "
      ]
    },
    {
      "cell_type": "code",
      "execution_count": null,
      "metadata": {
        "id": "SezZ5pTbxa0-"
      },
      "outputs": [],
      "source": [
        "plot_stat(0)"
      ]
    },
    {
      "cell_type": "code",
      "execution_count": null,
      "metadata": {
        "id": "4Orr9aOVxa0-"
      },
      "outputs": [],
      "source": [
        "plot_stat(1)"
      ]
    },
    {
      "cell_type": "code",
      "execution_count": null,
      "metadata": {
        "id": "w0lIn15Lxa0_"
      },
      "outputs": [],
      "source": [
        "plot_stat(2)"
      ]
    },
    {
      "cell_type": "code",
      "execution_count": null,
      "metadata": {
        "id": "4GIMQGo9xa0_"
      },
      "outputs": [],
      "source": [
        "plot_stat(3)"
      ]
    },
    {
      "cell_type": "code",
      "execution_count": null,
      "metadata": {
        "id": "giMuu5Vqxa0_"
      },
      "outputs": [],
      "source": [
        "plot_stat(4)"
      ]
    },
    {
      "cell_type": "code",
      "execution_count": null,
      "metadata": {
        "id": "4hKvFIjMxa0_"
      },
      "outputs": [],
      "source": [
        "plot_stat(5)"
      ]
    },
    {
      "cell_type": "code",
      "execution_count": null,
      "metadata": {
        "id": "VJiD3kKIxa0_"
      },
      "outputs": [],
      "source": [
        "plot_stat(6)"
      ]
    },
    {
      "cell_type": "code",
      "execution_count": null,
      "metadata": {
        "id": "usu__ZTdxa1A"
      },
      "outputs": [],
      "source": [
        "plot_stat(7)"
      ]
    },
    {
      "cell_type": "code",
      "execution_count": null,
      "metadata": {
        "id": "yxKp8kPjxa1A"
      },
      "outputs": [],
      "source": [
        "plot_stat(8)"
      ]
    },
    {
      "cell_type": "markdown",
      "metadata": {
        "id": "d0sVAB9Ijk0S"
      },
      "source": [
        "# Russell 1000 Index + commodities"
      ]
    },
    {
      "cell_type": "code",
      "execution_count": null,
      "metadata": {
        "id": "REbp2FWJjprC"
      },
      "outputs": [],
      "source": [
        "\n",
        "Russell_Commodities = pd.read_csv('data_all__.csv')\n",
        "Russell_Commodities=Russell_Commodities.set_index('Date')\n",
        "Russell_Commodities=Russell_Commodities.drop(columns=\"Unnamed: 0\")"
      ]
    },
    {
      "cell_type": "code",
      "execution_count": null,
      "metadata": {
        "id": "I6L8M71Fxa1B"
      },
      "outputs": [],
      "source": [
        "Russell_Commodities"
      ]
    },
    {
      "cell_type": "code",
      "execution_count": null,
      "metadata": {
        "id": "H6h39v_JkVT3"
      },
      "outputs": [],
      "source": [
        "Russell_Commodities=Russell_Commodities.loc[\"2005-01-01\":]\n",
        "\n",
        "\n"
      ]
    },
    {
      "cell_type": "code",
      "execution_count": null,
      "metadata": {
        "id": "N9kY0J1Uxa1B"
      },
      "outputs": [],
      "source": [
        "import plotly.express as px\n",
        "def plot_serie(data15):\n",
        "    fig = px.line(data15, x=data15.index, y=data15.columns,\n",
        "                    \n",
        "                    title='custom tick labels',\n",
        "                    width=1000, height=600)\n",
        "\n",
        "\n",
        "    fig.update_layout(\n",
        "        title=\"Futures\",\n",
        "        xaxis_title=\"Date\",\n",
        "        yaxis_title=\"USD\",\n",
        "        legend_title=\"Futuresd\",\n",
        "        font=dict(\n",
        "            family=\"Courier New, monospace\",\n",
        "            size=11,\n",
        "            color=\"RebeccaPurple\"\n",
        "        ))\n",
        "    fig.show()"
      ]
    },
    {
      "cell_type": "code",
      "execution_count": null,
      "metadata": {
        "id": "7DqI0EWpxa1B"
      },
      "outputs": [],
      "source": [
        "plot_serie(Russell_Commodities[[\"SIRI\",\"NYT\"]])"
      ]
    },
    {
      "cell_type": "markdown",
      "metadata": {
        "id": "_SuoYP2jG7ZB"
      },
      "source": [
        ""
      ]
    },
    {
      "cell_type": "code",
      "execution_count": null,
      "metadata": {
        "id": "gkXQ4CbKmU8V"
      },
      "outputs": [],
      "source": [
        "Russell_Commodities_return=Russell_Commodities.pct_change()[1:-1]\n",
        "Russell_Commodities_return=Russell_Commodities_return.fillna(0)\n",
        "Russell_Commodities_return.head(30)"
      ]
    },
    {
      "cell_type": "markdown",
      "metadata": {
        "id": "LTTHhJxHOop0"
      },
      "source": [
        "**batchnorm_forward**"
      ]
    },
    {
      "cell_type": "code",
      "execution_count": null,
      "metadata": {
        "id": "8LsvEEL3OmRE"
      },
      "outputs": [],
      "source": [
        "def batchnorm_forward(x,):\n",
        "    N, D = x.shape\n",
        "    \n",
        "    sample_mean = x.mean(axis=0)\n",
        "    sample_var = x.var(axis=0)\n",
        "    \n",
        "    std = np.sqrt(sample_var)\n",
        "    x_centered = x - sample_mean\n",
        "    x_norm = x_centered / std\n",
        "\n",
        "    \n",
        "\n",
        "    return x_norm"
      ]
    },
    {
      "cell_type": "code",
      "execution_count": null,
      "metadata": {
        "id": "LO4ks1dQOmRE"
      },
      "outputs": [],
      "source": [
        "for i in range(Russell_Commodities_return.shape[0]-13,):\n",
        "  f=batchnorm_forward(Russell_Commodities_return[i:i+13],)\n",
        "  Russell_Commodities_return.iloc[i]= f.iloc[0]"
      ]
    },
    {
      "cell_type": "markdown",
      "metadata": {
        "id": "uvO1d1aTJ3jA"
      },
      "source": [
        "**get  a month from a specific year**"
      ]
    },
    {
      "cell_type": "code",
      "execution_count": null,
      "metadata": {
        "id": "98tzVifHJXtY"
      },
      "outputs": [],
      "source": [
        "def data_month_just_one(rendement_all_years,year,month):\n",
        "      response_year1 =year\n",
        "      response_year2 = year\n",
        "      array=[]\n",
        "      for i in range(int(response_year1),int(response_year2)+1):\n",
        "        array.append(i)\n",
        "      rendement_all_years['year'] = pd.DatetimeIndex(rendement_all_years.index).year\n",
        "      \n",
        "      dataf=rendement_all_years[rendement_all_years['year'].isin(array)]  \n",
        "\n",
        "      response_month1 = month\n",
        "      response_month2 = month\n",
        "      array=[]\n",
        "      for i in range(int(response_month1),int(response_month2)+1):\n",
        "        array.append(i)\n",
        "      dataf['month'] = pd.DatetimeIndex(dataf.index).month\n",
        "      \n",
        "      datafv=dataf[dataf['month'].isin(array)]  \n",
        "      \n",
        "      datafv=datafv.drop(columns=[\"year\"])\n",
        "      datafv=datafv.drop(columns=[\"month\"])\n",
        "   \n",
        "    \n",
        "      return datafv\n",
        "\n",
        "def data_to_cluste_month(rendement_all_years,year,month_start, month_end):\n",
        "      response_year1 =year\n",
        "      response_year2 = year\n",
        "      array=[]\n",
        "      for i in range(int(response_year1),int(response_year2)+1):\n",
        "        array.append(i)\n",
        "      rendement_all_years['year'] = pd.DatetimeIndex(rendement_all_years.index).year\n",
        "      \n",
        "      dataf=rendement_all_years[rendement_all_years['year'].isin(array)]  \n",
        "\n",
        "      response_month1 = month_start\n",
        "      response_month2 = month_end\n",
        "      array=[]\n",
        "      for i in range(int(response_month1),int(response_month2)+1):\n",
        "        array.append(i)\n",
        "      dataf['month'] = pd.DatetimeIndex(dataf.index).month\n",
        "      \n",
        "      datafv=dataf[dataf['month'].isin(array)] \n",
        "      \n",
        "      datafv=datafv.drop(columns=[\"year\"])\n",
        "      datafv=datafv.drop(columns=[\"month\"])\n",
        "    \n",
        "    \n",
        "      return datafv\n",
        "     \n",
        "     "
      ]
    },
    {
      "cell_type": "code",
      "execution_count": null,
      "metadata": {
        "id": "h4BsY8m_J7Tw"
      },
      "outputs": [],
      "source": [
        "dat_test=data_to_cluste_month(Russell_Commodities_return,2019,2,4)\n",
        "#dat_test=dat_test.fillna(0)\n",
        "\n"
      ]
    },
    {
      "cell_type": "code",
      "execution_count": null,
      "metadata": {
        "id": "euI1Y_0vKvc4"
      },
      "outputs": [],
      "source": [
        "#plt.figure(figsize=(15,10))\n",
        "correlations = dat_test.corr(method='pearson')\n",
        "#sns.heatmap(round(correlations,2),   cmap=\"PiYG\",)\n",
        "\n",
        "# cmap=\"Blues\"\n",
        "# cmap=\"YlGnBu\"\n",
        "# cmap=\"BuPu\"\n",
        "# cmap=\"Greens\"\n",
        "# cmap=\"PiYG\"\n",
        "correlations=correlations.fillna(0)\n",
        "\n",
        "fig = px.imshow(correlations,\n",
        "            labels=dict(x=\"Russell_Commodities\", y=\"Russell_Commodities\", color=\"correlations\"),\n",
        "            x=correlations.index.to_list(),\n",
        "            y=correlations.columns.to_list()\n",
        "            )\n",
        "fig.update_layout(\n",
        "    autosize=False,\n",
        "    width=700,\n",
        "    height=800,)\n",
        "fig.show() "
      ]
    },
    {
      "cell_type": "code",
      "execution_count": null,
      "metadata": {
        "id": "CAliUzBzLkdJ"
      },
      "outputs": [],
      "source": [
        "# from (n,n) shape to -----> (1,n*n) shape\n",
        "ndf = correlations.unstack().to_frame().T\n",
        "ndf.columns = ndf.columns.map('{0[0]}_{0[1]}'.format) \n",
        "ndf.index=[dat_test.index[0]]\n",
        "ndf"
      ]
    },
    {
      "cell_type": "code",
      "execution_count": null,
      "metadata": {
        "id": "m8EebwXUszmr"
      },
      "outputs": [],
      "source": [
        "def correlations_plot_and_data(year, month_start, month_end):\n",
        "\n",
        "  data_m =data_to_cluste_month(Russell_Commodities_return,year,month_start,month_end)\n",
        "  data_m=data_m.dropna(axis=1)\n",
        "  correlations = data_m.corr(method='pearson')\n",
        "  #correlations[np.arange(correlations.shape[0])[:,None] > np.arange(correlations.shape[1])] = np.nan\n",
        "  #ndf = correlations.unstack().to_frame().T\n",
        "  #ndf.columns = ndf.columns.map('{0[0]}_{0[1]}'.format) \n",
        "  #ndf.index=[data_m.index[0]]\n",
        "\n",
        "\n",
        "\n",
        "\n",
        "  fig = px.imshow(correlations,\n",
        "                labels=dict(x=\"Russell_Commodities\", y=\"Russell_Commodities\", color=\"correlations\"),\n",
        "                x=correlations.index.to_list(),\n",
        "                y=correlations.columns.to_list()\n",
        "               )\n",
        "  fig.update_layout(\n",
        "      autosize=False,\n",
        "      width=1000,\n",
        "      height=1000,)\n",
        "  fig.show() \n",
        "\n",
        "  return correlations\n",
        "\n",
        "\n",
        "def correlations_plot_and_data__2(year, month_start, month_end):\n",
        "\n",
        "  data_m =data_to_cluste_month(Russell_Commodities_return,year,month_start,month_end)\n",
        "  #data_m=data_m.dropna(axis=1)\n",
        "  #data_m=data_m.fillna(0)  \n",
        "  correlations = data_m.corr(method='pearson')\n",
        "  #correlations[np.arange(correlations.shape[0])[:,None] > np.arange(correlations.shape[1])] = np.nan\n",
        "  #ndf = correlations.unstack().to_frame().T\n",
        "  #ndf.columns = ndf.columns.map('{0[0]}_{0[1]}'.format) \n",
        "  #ndf.index=[data_m.index[0]]\n",
        "\n",
        "\n",
        "  return correlations\n",
        "\n",
        "\n"
      ]
    },
    {
      "cell_type": "markdown",
      "metadata": {
        "id": "MmOzRYj6L_9Y"
      },
      "source": [
        "**for loop  to create the big correlation matrix**"
      ]
    },
    {
      "cell_type": "code",
      "execution_count": null,
      "metadata": {
        "id": "7kn5a6LgoThJ"
      },
      "outputs": [],
      "source": [
        "#month=[1,2,3,4,5,6,7,8,9,10,11,12]\n",
        "#month=[1,7]  +5\n",
        "month=[1,3,5,7,9,11,] # +1\n",
        "year=[2005,2006,2007,2008,2009,2010,2011,2012,2013,2014,2015,2016,2017,2018,2019,2020]\n",
        "\n",
        "dara_for_clust=pd.DataFrame()\n",
        "for yy in year:\n",
        "  for mo in month:\n",
        "    #data_m=data_month_just_one(return_sp500_test_data_drive,yy,mo)\n",
        "    data_m =data_to_cluste_month(Russell_Commodities_return,yy,mo,mo+1)\n",
        "    #data_m=data_m.dropna(axis=1)\n",
        "    \n",
        "    correlations = data_m.corr()\n",
        "    correlations=correlations.fillna(0)  \n",
        "    #correlations[np.arange(correlations.shape[0])[:,None] > np.arange(correlations.shape[1])] = np.nan\n",
        "    ndf = correlations.unstack().to_frame().T\n",
        "    ndf.columns = ndf.columns.map('{0[0]}_{0[1]}'.format) \n",
        "    ndf.index=[data_m.index[0]]\n",
        "    #ndf=ndf.dropna(axis=1)\n",
        "    dara_for_clust=dara_for_clust.append(ndf)\n"
      ]
    },
    {
      "cell_type": "code",
      "execution_count": null,
      "metadata": {
        "id": "VYdjMpdibvXT"
      },
      "outputs": [],
      "source": [
        " dara_for_clust=dara_for_clust.fillna(0)   "
      ]
    },
    {
      "cell_type": "code",
      "execution_count": null,
      "metadata": {
        "id": "JDm1NXOAIz9i"
      },
      "outputs": [],
      "source": [
        "dara_for_clust.isna().sum().sum()"
      ]
    },
    {
      "cell_type": "code",
      "execution_count": null,
      "metadata": {
        "id": "81P17x5PMe-e"
      },
      "outputs": [],
      "source": [
        "dara_for_clust_test=dara_for_clust[:3]\n",
        "lt=[]\n",
        "matrix=pd.DataFrame(columns=dara_for_clust_test.index.to_list())\n",
        "for j in range(dara_for_clust_test.shape[0]):\n",
        "  lt=[]\n",
        "  for i in range(dara_for_clust_test.shape[0]):\n",
        "    similarity=abs(dara_for_clust_test.iloc[j]-dara_for_clust_test.iloc[i]).mean()\n",
        "    lt.append(similarity)\n",
        "  matrix = matrix.append(pd.DataFrame([lt], columns=dara_for_clust_test.index.to_list()),ignore_index=True)\n",
        "\n",
        "\n",
        "matrix.index=matrix.columns\n",
        "matrix"
      ]
    },
    {
      "cell_type": "code",
      "execution_count": null,
      "metadata": {
        "id": "0TvuCpPfoThK"
      },
      "outputs": [],
      "source": [
        "lt=[]\n",
        "matrix=pd.DataFrame(columns=dara_for_clust.index.to_list())\n",
        "for j in range(dara_for_clust.shape[0]):\n",
        "  print(j)\n",
        "  lt=[]\n",
        "  for i in range(dara_for_clust.shape[0]):\n",
        "    similarity=abs(dara_for_clust.iloc[j]-dara_for_clust.iloc[i]).mean()\n",
        "    lt.append(similarity)\n",
        "  matrix = matrix.append(pd.DataFrame([lt], columns=dara_for_clust.index.to_list()),ignore_index=True)\n",
        "\n",
        "\n",
        "matrix.index=matrix.columns\n"
      ]
    },
    {
      "cell_type": "code",
      "execution_count": null,
      "metadata": {
        "id": "E8A8ioKSxa1G"
      },
      "outputs": [],
      "source": [
        "  #diff\n",
        "  fig = px.imshow(matrix,\n",
        "                labels=dict(x=\"Russell_Commodities\", y=\"Russell_Commodities\", color=\"correlations\"),\n",
        "                x=matrix.index.to_list(),\n",
        "                y=matrix.columns.to_list()\n",
        "               )\n",
        "  fig.update_layout(\n",
        "      autosize=False,\n",
        "      width=1000,\n",
        "      height=800,)\n",
        "  fig.show() \n"
      ]
    },
    {
      "cell_type": "code",
      "execution_count": null,
      "metadata": {
        "id": "uYLJ9VvCxa1G"
      },
      "outputs": [],
      "source": [
        "  #\n",
        "  fig = px.imshow(matrix,\n",
        "                labels=dict(x=\"Russell_Commodities\", y=\"Russell_Commodities\", color=\"correlations\"),\n",
        "                x=matrix.index.to_list(),\n",
        "                y=matrix.columns.to_list()\n",
        "               )\n",
        "  fig.update_layout(\n",
        "      autosize=False,\n",
        "      width=1000,\n",
        "      height=800,)\n",
        "  fig.show() "
      ]
    },
    {
      "cell_type": "markdown",
      "metadata": {
        "id": "W1d5x0Q39oWb"
      },
      "source": [
        "## KMENAS_2D"
      ]
    },
    {
      "cell_type": "code",
      "execution_count": null,
      "metadata": {
        "id": "B7VZzbI09IAy"
      },
      "outputs": [],
      "source": [
        ""
      ]
    },
    {
      "cell_type": "code",
      "execution_count": null,
      "metadata": {
        "id": "I1ykmF9I9_Nw"
      },
      "outputs": [],
      "source": [
        "def KMENAS_2D(data,n_clust,f1,f2):\n",
        "    list_center=[]\n",
        "    kmeans = KMeans(n_clusters=n_clust,n_init =25, random_state=90)\n",
        "    kmeans.fit(data)\n",
        "    #print(metrics.silhouette_score(np.reshape(list(target), (1000,-1)),kmeans.labels_))\n",
        "    plt.figure('K-means with 2 clusters', figsize=(15,10))\n",
        "    plt.scatter(data[f1], data[f2], c=kmeans.labels_  ,cmap=\"tab10\")\n",
        "    sns.scatterplot(kmeans.cluster_centers_[:, 0], kmeans.cluster_centers_[:, 1], color = 'red', \n",
        "                  label = 'Centroids',s=300,marker='*')\n",
        "    plt.show()\n",
        "    closest, _f = pairwise_distances_argmin_min(kmeans.cluster_centers_,data)\n",
        "    #print(\"cluster 0: \"+ str(closest[0]))\n",
        "    #print(\"cluster 0: \"+ str(closest[1]))\n",
        "    #print(\"cluster 0: \"+ str(closest[2]))\n",
        "    for i in range(n_clust):\n",
        "      list_center.append(closest[i])\n",
        "    \n",
        "    return kmeans.labels_,list_center\n",
        "    "
      ]
    },
    {
      "cell_type": "code",
      "execution_count": null,
      "metadata": {
        "id": "dkWGkO1V9_Nw"
      },
      "outputs": [],
      "source": [
        "\n",
        "\n",
        "def elbow_method(X):\n",
        "  distortions = []\n",
        "  for i in range(1, 11):\n",
        "      km = KMeans(\n",
        "          n_clusters=i, init='random',\n",
        "          n_init=10, max_iter=300,\n",
        "          tol=1e-04, random_state=0\n",
        "      )\n",
        "      km.fit(X)\n",
        "      distortions.append(km.inertia_)\n",
        "\n",
        "  # plot\n",
        "  plt.plot(range(1, 11), distortions, marker='o')\n",
        "  plt.xlabel('Number of clusters')\n",
        "  plt.ylabel('Distortion')\n",
        "  plt.show()\n"
      ]
    },
    {
      "cell_type": "code",
      "execution_count": null,
      "metadata": {
        "id": "UJaeh3kA9_Nw"
      },
      "outputs": [],
      "source": [
        "elbow_method(matrix)\n",
        "\n"
      ]
    },
    {
      "cell_type": "code",
      "execution_count": null,
      "metadata": {
        "id": "-Sa4uIe3xa1H"
      },
      "outputs": [],
      "source": [
        "matrix"
      ]
    },
    {
      "cell_type": "code",
      "execution_count": null,
      "metadata": {
        "id": "1wa93t7fxa1H"
      },
      "outputs": [],
      "source": [
        "def CAH(data):\n",
        "    fig = ff.create_dendrogram(data,\n",
        "                           linkagefun = lambda x: shc.linkage(x, \"ward\"),\n",
        "                           labels=matrix.columns.to_list(),orientation=\"left\")\n",
        "\n",
        "\n",
        "    fig.update_layout(width=1000, height=1000)\n",
        "    fig.show()\n",
        "    "
      ]
    },
    {
      "cell_type": "code",
      "execution_count": null,
      "metadata": {
        "id": "gGuZW5TSxa1H"
      },
      "outputs": [],
      "source": [
        "CAH(matrix)"
      ]
    },
    {
      "cell_type": "code",
      "execution_count": null,
      "metadata": {
        "id": "ZZbEFUyd9l0m"
      },
      "outputs": [],
      "source": [
        "\n",
        "labels_,list_center=KMENAS_2D(matrix,8,\"2005-01-04\",\"2020-11-02\")"
      ]
    },
    {
      "cell_type": "markdown",
      "metadata": {
        "id": "eMXJa922AZWL"
      },
      "source": [
        "## data_with_label"
      ]
    },
    {
      "cell_type": "code",
      "execution_count": null,
      "metadata": {
        "id": "FMxcMTk2AO-T"
      },
      "outputs": [],
      "source": [
        "\n",
        "\n",
        "data_with_label=pd.DataFrame()\n",
        "dataset = pd.DataFrame({'classe':labels_ }, index=dara_for_clust.index)\n",
        "frame=[matrix,dataset]\n",
        "data_with_label=pd.concat(frame, axis=1)\n",
        "data_with_label"
      ]
    },
    {
      "cell_type": "code",
      "execution_count": null,
      "metadata": {
        "id": "XfFjNwMy2cy7"
      },
      "outputs": [],
      "source": [
        "def get_date_of_clustr_rows(clus):\n",
        "  t= pd.DataFrame(columns=[\"year\",\"month\"])\n",
        "  for i in clus:\n",
        "    s=i.split(\"-\",2)\n",
        "    if s[1].startswith(\"0\"):\n",
        "      s[1]=s[1][1:]\n",
        "\n",
        "    t=t.append(pd.DataFrame(data=[[int(s[0]),int(s[1])]], columns=[\"year\",\"month\"]))  \n",
        "\n",
        "  t=t.reset_index()\n",
        "  return t\n"
      ]
    },
    {
      "cell_type": "code",
      "execution_count": null,
      "metadata": {
        "id": "ClikfpW3xa1I"
      },
      "outputs": [],
      "source": [
        "data_with_label[\"classe\"].to_frame().value_counts()\n"
      ]
    },
    {
      "cell_type": "code",
      "execution_count": null,
      "metadata": {
        "id": "epz2veUoxa1I"
      },
      "outputs": [],
      "source": [
        "Russell_Commodities_return"
      ]
    },
    {
      "cell_type": "code",
      "execution_count": null,
      "metadata": {
        "id": "IbV9gonnxa1I"
      },
      "outputs": [],
      "source": [
        "def plot_stat(label):\n",
        "    claster_0=data_with_label[data_with_label[\"classe\"]==label]\n",
        "    claster_0=claster_0.index.to_list()\n",
        "\n",
        "    z=np.zeros((1056 ,1056 ))\n",
        "    culst_matrix=pd.DataFrame(data=z, columns=Russell_Commodities_return.columns, index=Russell_Commodities_return.columns)\n",
        "    clus_dat=get_date_of_clustr_rows(claster_0)\n",
        "    for i in range(clus_dat.shape[0]):\n",
        "        corr=correlations_plot_and_data__2(clus_dat[\"year\"][i],clus_dat[\"month\"][i],clus_dat[\"month\"][i]+1).fillna(0)\n",
        "        culst_matrix=culst_matrix+corr\n",
        "\n",
        "\n",
        "    culst_matrix=culst_matrix[Russell_Commodities_return.columns]\n",
        "    culst_matrix=culst_matrix.reindex(culst_matrix.columns)\n",
        "\n",
        "    #culst_matrix=culst_matrix.dropna(axis=1,how=\"all\")\n",
        "    culst_matrix=culst_matrix.fillna(0)\n",
        "    c=culst_matrix.loc[culst_matrix.columns,:]\n",
        "    c=c/clus_dat.shape[0]\n",
        "    print(c.shape)\n",
        "    fig = px.imshow(c,\n",
        "                labels=dict(x=\"Russell_Commodities\", y=\"Russell_Commodities\", color=\"correlations\"),\n",
        "                x=c.index.to_list(),\n",
        "                y=c.columns.to_list()\n",
        "                )\n",
        "    fig.update_layout(\n",
        "        autosize=False,\n",
        "        width=800,\n",
        "        height=700,)\n",
        "    fig.show() "
      ]
    },
    {
      "cell_type": "code",
      "execution_count": null,
      "metadata": {
        "id": "fqELDatnxa1I"
      },
      "outputs": [],
      "source": [
        "plot_stat(0)"
      ]
    },
    {
      "cell_type": "code",
      "execution_count": null,
      "metadata": {
        "id": "vdgP9O8nxa1J"
      },
      "outputs": [],
      "source": [
        "plot_stat(1)"
      ]
    },
    {
      "cell_type": "code",
      "execution_count": null,
      "metadata": {
        "id": "yN80AaSDxa1J"
      },
      "outputs": [],
      "source": [
        "plot_stat(2)"
      ]
    },
    {
      "cell_type": "code",
      "execution_count": null,
      "metadata": {
        "id": "Bn8qhEDqxa1J"
      },
      "outputs": [],
      "source": [
        "plot_stat(3)"
      ]
    },
    {
      "cell_type": "code",
      "execution_count": null,
      "metadata": {
        "id": "52L92iKwxa1J"
      },
      "outputs": [],
      "source": [
        "plot_stat(4)"
      ]
    },
    {
      "cell_type": "code",
      "execution_count": null,
      "metadata": {
        "id": "PJ7dD8rIxa1J"
      },
      "outputs": [],
      "source": [
        "plot_stat(5)"
      ]
    },
    {
      "cell_type": "code",
      "execution_count": null,
      "metadata": {
        "id": "MSxmSHsrxa1J"
      },
      "outputs": [],
      "source": [
        "plot_stat(6)"
      ]
    },
    {
      "cell_type": "code",
      "execution_count": null,
      "metadata": {
        "id": "wm6QDHZ2xa1J"
      },
      "outputs": [],
      "source": [
        "plot_stat(7)"
      ]
    },
    {
      "cell_type": "code",
      "execution_count": null,
      "metadata": {
        "id": "NAqSBq6x97cf"
      },
      "outputs": [],
      "source": [
        ""
      ]
    },
    {
      "cell_type": "markdown",
      "metadata": {
        "id": "-eGsuUKqJcgU"
      },
      "source": [
        "# Fractional differencing"
      ]
    },
    {
      "cell_type": "code",
      "execution_count": null,
      "metadata": {
        "id": "-C4ad9qJIxN2"
      },
      "outputs": [],
      "source": [
        "\n",
        "Russell_Commodities = pd.read_csv('data_all__.csv')\n",
        "Russell_Commodities=Russell_Commodities.set_index('Date')\n",
        "Russell_Commodities=Russell_Commodities.drop(columns=\"Unnamed: 0\")"
      ]
    },
    {
      "cell_type": "code",
      "execution_count": null,
      "metadata": {
        "id": "QBPEDUenIv0_"
      },
      "outputs": [],
      "source": [
        "Russell_Commodities=Russell_Commodities.loc[\"2005-01-01\":]\n",
        "Russell_Commodities_return=Russell_Commodities.pct_change()[1:-1]"
      ]
    },
    {
      "cell_type": "code",
      "execution_count": null,
      "metadata": {
        "id": "3PZ8S1laIEUr"
      },
      "outputs": [],
      "source": [
        "Russell_Commodities_return"
      ]
    },
    {
      "cell_type": "code",
      "execution_count": null,
      "metadata": {
        "id": "HYSrVxu1IWfH"
      },
      "outputs": [],
      "source": [
        "return_data=Russell_Commodities_return"
      ]
    },
    {
      "cell_type": "code",
      "execution_count": null,
      "metadata": {
        "id": "_CfkEx8OIYK_"
      },
      "outputs": [],
      "source": [
        "return_data"
      ]
    },
    {
      "cell_type": "code",
      "execution_count": null,
      "metadata": {
        "id": "94wxVA9hLBWa"
      },
      "outputs": [],
      "source": [
        "import statsmodels\n",
        "from statsmodels.tsa.stattools import adfuller"
      ]
    },
    {
      "cell_type": "code",
      "execution_count": null,
      "metadata": {
        "id": "uyA8M-XILQr6"
      },
      "outputs": [],
      "source": [
        "# Augmented Dickey-Fuller test on volume of google and microsoft stocks \n",
        "for i in return_data.columns:\n",
        "  adf = adfuller(return_data[i])\n",
        "  print(\"p-value of \"+str(i)+\" : {}\".format(float(adf[1])))\n"
      ]
    },
    {
      "cell_type": "code",
      "execution_count": null,
      "metadata": {
        "id": "OemNvuh8L7OB"
      },
      "outputs": [],
      "source": [
        "def getWeights(d,lags):\n",
        "    # return the weights from the series expansion of the differencing operator\n",
        "    # for real orders d and up to lags coefficients\n",
        "    w=[1]\n",
        "    for k in range(1,lags):\n",
        "        w.append(-w[-1]*((d-k+1))/k)\n",
        "    w=np.array(w).reshape(-1,1) \n",
        "    return w\n",
        "def plotWeights(dRange, lags, numberPlots):\n",
        "    weights=pd.DataFrame(np.zeros((lags, numberPlots)))\n",
        "    interval=np.linspace(dRange[0],dRange[1],numberPlots)\n",
        "    for i, diff_order in enumerate(interval):\n",
        "        weights[i]=getWeights(diff_order,lags)\n",
        "    weights.columns = [round(x,2) for x in interval]\n",
        "    fig=weights.plot(figsize=(15,6))\n",
        "    plt.legend(title='Order of differencing')\n",
        "    plt.title('Lag coefficients for various orders of differencing')\n",
        "    plt.xlabel('lag coefficients')\n",
        "    #plt.grid(False)\n",
        "    plt.show()\n",
        "def ts_differencing(series, order, lag_cutoff):\n",
        "    # return the time series resulting from (fractional) differencing\n",
        "    # for real orders order up to lag_cutoff coefficients\n",
        "    \n",
        "    weights=getWeights(order, lag_cutoff)\n",
        "    res=0\n",
        "    for k in range(lag_cutoff):\n",
        "        res += weights[k]*series.shift(k).fillna(0)\n",
        "    return res[lag_cutoff:] "
      ]
    },
    {
      "cell_type": "code",
      "execution_count": null,
      "metadata": {
        "id": "vGSwfluQNlLL"
      },
      "outputs": [],
      "source": [
        "plotWeights([0.1,0.9],20,5)"
      ]
    },
    {
      "cell_type": "code",
      "execution_count": null,
      "metadata": {
        "id": "QEO4QOuirIwv"
      },
      "outputs": [],
      "source": [
        "def cutoff_find(order,cutoff,start_lags): #order is our dearest d, cutoff is 1e-5 for us, and start lags is an initial amount of lags in which the loop will start, this can be set to high values in order to speed up the algo\n",
        "    val=np.inf\n",
        "    lags=start_lags\n",
        "    while abs(val)>cutoff:\n",
        "        w=getWeights(order, lags)\n",
        "        val=w[len(w)-1]\n",
        "        lags+=1\n",
        "    return lags"
      ]
    },
    {
      "cell_type": "code",
      "execution_count": null,
      "metadata": {
        "id": "K9gA2a_fvdbm"
      },
      "outputs": [],
      "source": [
        "possible_d"
      ]
    },
    {
      "cell_type": "code",
      "execution_count": null,
      "metadata": {
        "id": "7VV_zqS_No_h"
      },
      "outputs": [],
      "source": [
        "def ts_differencing_tau(series, order, tau):\n",
        "    # return the time series resulting from (fractional) differencing\n",
        "    lag_cutoff=(cutoff_find(order,tau,1)) #finding lag cutoff with tau\n",
        "    weights=getWeights(order, lag_cutoff)\n",
        "    res=0\n",
        "    for k in range(lag_cutoff):\n",
        "        res += weights[k]*series.shift(k).fillna(0)\n",
        "    return res[lag_cutoff:] \n",
        "#this part takes about 20 minutes to compute\n",
        "possible_d=np.divide(range(1,100),100)\n",
        "\n",
        "tau=1e-4\n",
        "original_adf_stat_holder=[None]*len(possible_d)\n",
        "log_adf_stat_holder=[None]*len(possible_d)\n",
        "\n",
        "for i in range(len(possible_d)):\n",
        "    original_adf_stat_holder[i]=adfuller(ts_differencing_tau(Russell_Commodities[\"AAPL\"],possible_d[i],tau))[1]\n",
        "    log_adf_stat_holder[i]=adfuller(ts_differencing_tau(Russell_Commodities['MMM'],possible_d[i],tau))[1]\n",
        "#now the plots of the ADF p-values\n",
        "fig, axs = plt.subplots(1,2,figsize=(15,6))\n",
        "axs[0].plot(possible_d,original_adf_stat_holder)\n",
        "axs[0].axhline(y=0.01,color='r')\n",
        "axs[0].set_title('ADF P-value by differencing order in the original series S&P Futures')\n",
        "axs[1].plot(possible_d,log_adf_stat_holder)\n",
        "axs[1].axhline(y=0.01,color='r')\n",
        "axs[1].set_title('ADF P-value by differencing order in the original series Crude Oil')"
      ]
    },
    {
      "cell_type": "code",
      "execution_count": null,
      "metadata": {
        "id": "I0r7v6JhJ8D0"
      },
      "outputs": [],
      "source": [
        ""
      ]
    },
    {
      "cell_type": "code",
      "execution_count": null,
      "metadata": {
        "id": "C_9pHrWFGZ9i"
      },
      "outputs": [],
      "source": [
        "params=pd.DataFrame()\n",
        "for j in Russell_Commodities.columns:\n",
        "\n",
        "  for i in range(len(possible_d)):\n",
        "      original_adf_stat_holder[i]=adfuller(ts_differencing_tau(Russell_Commodities[j],possible_d[i],tau))[1]\n",
        "  for s in original_adf_stat_holder:\n",
        "    if s < 0.049:\n",
        "      print(s)\n",
        "      print(original_adf_stat_holder.index(s))\n",
        "      data_in=pd.DataFrame(data=[possible_d[original_adf_stat_holder.index(s)]], index=[j],) \n",
        "      params=params.append(data_in) \n",
        "      print(\"mrigel  \"+ str(j))\n",
        "      break\n",
        " "
      ]
    },
    {
      "cell_type": "code",
      "execution_count": null,
      "metadata": {
        "id": "01U90ndOUBWU"
      },
      "outputs": [],
      "source": [
        "params.loc[\"2-Year T-Note Futures,Dec-2021\"]"
      ]
    },
    {
      "cell_type": "code",
      "execution_count": null,
      "metadata": {
        "id": "UrHMJBfXULJH"
      },
      "outputs": [],
      "source": [
        "adftest=adfuller(ts_differencing_tau(data['2-Year T-Note Futures,Dec-2021'],0.34,tau))\n",
        "print('ADF Statistic: %f' % adftest[0])\n",
        "print('ADF p-value: %f' % adftest[1])"
      ]
    },
    {
      "cell_type": "code",
      "execution_count": null,
      "metadata": {
        "id": "Sd3QLkWEJmWL"
      },
      "outputs": [],
      "source": [
        "params"
      ]
    },
    {
      "cell_type": "code",
      "execution_count": null,
      "metadata": {
        "id": "d8lClcHEROjT"
      },
      "outputs": [],
      "source": [
        "fractional_Differencing_data=pd.DataFrame()\n",
        "for i in data.columns:\n",
        "  fractional_Differencing_data[i]=ts_differencing_tau(data[i],params.loc[i][0],tau)"
      ]
    },
    {
      "cell_type": "code",
      "execution_count": null,
      "metadata": {
        "id": "BJhovPGETL6k"
      },
      "outputs": [],
      "source": [
        "fractional_Differencing_data"
      ]
    },
    {
      "cell_type": "code",
      "execution_count": null,
      "metadata": {
        "id": "ZaOOjDJTq8lQ"
      },
      "outputs": [],
      "source": [
        "return_data.columns"
      ]
    },
    {
      "cell_type": "code",
      "execution_count": null,
      "metadata": {
        "id": "84n7uAIFtMgG"
      },
      "outputs": [],
      "source": [
        "differences=[0.5,0.9]\n",
        "adftest=adfuller(ts_differencing_tau(data['Crude Oil'],0.39,tau))\n",
        "print('ADF Statistic: %f' % adftest[0])\n",
        "print('ADF p-value: %f' % adftest[1])"
      ]
    },
    {
      "cell_type": "code",
      "execution_count": null,
      "metadata": {
        "id": "OJDfzk0XthNP"
      },
      "outputs": [],
      "source": [
        "adftest=adfuller(return_data['Crude Oil'])\n",
        "print('ADF Statistic: %f' % adftest[0])\n",
        "print('ADF p-value: %f' % adftest[1])"
      ]
    },
    {
      "cell_type": "code",
      "execution_count": null,
      "metadata": {
        "id": "Sat56rJqyCZ_"
      },
      "outputs": [],
      "source": [
        ""
      ]
    },
    {
      "cell_type": "markdown",
      "metadata": {
        "id": "lhXLS-pUoH9K"
      },
      "source": [
        "# CAH"
      ]
    },
    {
      "cell_type": "code",
      "execution_count": null,
      "metadata": {
        "id": "k6UZJggvoKdb"
      },
      "outputs": [],
      "source": [
        "from scipy.cluster.hierarchy import dendrogram, linkage,fcluster\n",
        "import plotly.figure_factory as ff\n",
        "import scipy.cluster.hierarchy as shc\n",
        "import numpy as np\n",
        "import plotly.express as px\n",
        "from sklearn.cluster import AgglomerativeClustering\n",
        "from sklearn.neighbors import NearestNeighbors"
      ]
    },
    {
      "cell_type": "code",
      "execution_count": null,
      "metadata": {
        "id": "ueNqtfSboeMA"
      },
      "outputs": [],
      "source": [
        "from sklearn.preprocessing import MinMaxScaler\n",
        "from sklearn.preprocessing import StandardScaler\n",
        "from sklearn.preprocessing import RobustScaler"
      ]
    },
    {
      "cell_type": "code",
      "execution_count": null,
      "metadata": {
        "id": "tCBWriMAogeC"
      },
      "outputs": [],
      "source": [
        "def ScaleMinMax(data_num):\n",
        "    scaler = MinMaxScaler()\n",
        "    data_num_sc = pd.DataFrame(scaler.fit_transform(data_num), columns=data_num.columns)\n",
        "    return data_num_sc\n",
        "\n",
        "def ScalerStandard(data_num):\n",
        "    scaler = StandardScaler()\n",
        "    data_num_sc = pd.DataFrame(scaler.fit_transform(data_num), columns=data_num.columns)\n",
        "    return data_num_sc\n",
        "\n",
        "def ScalerRobust(data_num):\n",
        "    scaler = RobustScaler()\n",
        "    data_num_sc = pd.DataFrame(scaler.fit_transform(data_num), columns=data_num.columns)\n",
        "    return data_num_sc\n",
        "\n",
        "\n",
        "def ScaleMinMax2(data_num):\n",
        "    scaler = MinMaxScaler()\n",
        "    data_num_sc = pd.DataFrame(scaler.fit_transform(data_num), columns=data_num.columns)\n",
        "    data_num_sc.set_index(data_num.index, inplace = True)\n",
        "    return data_num_sc    \n",
        "\n",
        "\n",
        "def ScalerStandard2(data_num):\n",
        "    scaler = StandardScaler()\n",
        "    data_num_sc = pd.DataFrame(scaler.fit_transform(data_num), columns=data_num.columns)\n",
        "    data_num_sc.set_index(data_num.index, inplace = True)\n",
        "    return data_num_sc"
      ]
    },
    {
      "cell_type": "code",
      "execution_count": null,
      "metadata": {
        "id": "maEFdwaLob3Z"
      },
      "outputs": [],
      "source": [
        "def new_data(df_finale1,a):\n",
        "  return df_finale1[a]\n"
      ]
    },
    {
      "cell_type": "code",
      "execution_count": null,
      "metadata": {
        "id": "AStkJ5DdoM46"
      },
      "outputs": [],
      "source": [
        "def CAH(data):\n",
        "    fig = ff.create_dendrogram(data,\n",
        "                           linkagefun = lambda x: shc.linkage(x, \"ward\"),\n",
        "                           labels=data_to_clust[\"company\"].to_list())\n",
        "\n",
        "    fig.update_layout(width=1000, height=1000)\n",
        "    fig.show()\n",
        "    "
      ]
    },
    {
      "cell_type": "code",
      "execution_count": null,
      "metadata": {
        "id": "V8MwA897pE-F"
      },
      "outputs": [],
      "source": [
        "def data_choix(sp500_test_data_drive_2012_2018):\n",
        "  # rendement\n",
        "  REND_sp500_test_data_drive=rendemenT(sp500_test_data_drive_2012_2018)\n",
        "  REND_sp500_test_data_drive.rendement_quotidien2()\n",
        "  REND_sp500_test_data_drive.rendement.head(5)\n",
        "  c=REND_sp500_test_data_drive.rendement.mean()\n",
        "  REND_sp500 = pd.DataFrame(c) \n",
        "  REND_sp500.reset_index(level=0, inplace=True)\n",
        "  REND_sp500.rename(columns = {0:'mean rend',\"index\":\"company\"}, inplace = True) \n",
        "  REND_sp500=REND_sp500.dropna()\n",
        "  REND_sp500=REND_sp500.reset_index()\n",
        "  REND_sp500=REND_sp500.drop(columns=\"index\")\n",
        "\n",
        "  #semi varriance\n",
        "  REND_semi_varience=[]\n",
        "  for f in REND_sp500['company']:\n",
        "    REND_semi_varience.append(round(REND_sp500_test_data_drive.rendement[REND_sp500_test_data_drive.rendement[f] < REND_sp500_test_data_drive.rendement[f].mean()][f].std(),6))\n",
        "  d = {'company':REND_sp500['company'].to_list(),'REND_semi_varience': REND_semi_varience}\n",
        "  REND_semi_varience_df = pd.DataFrame(data=d)\n",
        "    # VaR\n",
        "  REND_VaR_90=[]\n",
        "  for f in REND_sp500['company']:\n",
        "    mean = np.mean(REND_sp500_test_data_drive.rendement[f])\n",
        "    std_dev = np.std(REND_sp500_test_data_drive.rendement[f])   \n",
        "    VaR_90 = norm.ppf(1-0.9, mean, std_dev)\n",
        "    REND_VaR_90.append(round(VaR_90,6))\n",
        "    \n",
        "\n",
        "  d = {'company':REND_sp500['company'].to_list(),'REND_VaR_90': REND_VaR_90}\n",
        "  REND_VaR_90_df = pd.DataFrame(data=d)\n",
        "\n",
        "  # CVaR\n",
        "  REND_CVaR_90=[]\n",
        "  for f in REND_sp500['company']:\n",
        "    mean = np.mean(REND_sp500_test_data_drive.rendement[f])\n",
        "    std_dev = np.std(REND_sp500_test_data_drive.rendement[f])   \n",
        "    VaR_90 = norm.ppf(1-0.9, mean, std_dev)#Estimated VaR\n",
        "    z = (VaR_90-mean)/std_dev #Normalized VaR\n",
        "    z = mean - std_dev*(norm.pdf(z)/norm.cdf(z)) #Estimated ES\n",
        "    REND_CVaR_90.append(round(z,6))\n",
        "    \n",
        "\n",
        "  d = {'company':REND_sp500['company'].to_list(),'REND_CVaR_90': REND_CVaR_90}\n",
        "  REND_CVaR_90_df = pd.DataFrame(data=d)\n",
        "\n",
        "  # var\n",
        "  c=REND_sp500_test_data_drive.rendement.var()\n",
        "  REND_sp500_var = pd.DataFrame(c) \n",
        "  REND_sp500_var.reset_index(level=0, inplace=True)\n",
        "  REND_sp500_var.rename(columns = {0:'var',\"index\":\"company\"}, inplace = True) \n",
        "  REND_sp500_var=REND_sp500_var.dropna()\n",
        "  REND_sp500_var=REND_sp500_var.reset_index()\n",
        "  REND_sp500_var=REND_sp500_var.drop(columns=\"index\")\n",
        "\n",
        "\n",
        "\n",
        "\n",
        "  df_finale1=REND_sp500.merge(REND_sp500_var, on = ['company'])\n",
        "  df_finale1=df_finale1.merge(REND_semi_varience_df, on = ['company'])\n",
        "  df_finale1=df_finale1.merge(REND_VaR_90_df, on = ['company'])\n",
        "  df_finale1=df_finale1.merge(REND_CVaR_90_df, on = ['company'])\n",
        "\n",
        "  cc=sp500_test_data_drive_2012_2018.mean()\n",
        "  Close_sp500 = pd.DataFrame(cc) \n",
        "  Close_sp500.reset_index(level=0, inplace=True)\n",
        "  Close_sp500.rename(columns = {0:'mean Close',\"index\":\"company\"}, inplace = True) \n",
        "  Close_sp500=Close_sp500.dropna()\n",
        "\n",
        "  Close_sp500=Close_sp500.reset_index()\n",
        "  Close_sp500=Close_sp500.drop(columns=\"index\")\n",
        "\n",
        "  #u=l.to_frame()\n",
        "  df_f=df_finale1.merge(Close_sp500, on = ['company'])\n",
        "\n",
        "  return df_f"
      ]
    },
    {
      "cell_type": "code",
      "execution_count": null,
      "metadata": {
        "id": "WbHvIny-pOfU"
      },
      "outputs": [],
      "source": [
        "data_to_clust=data_choix(commodities)"
      ]
    },
    {
      "cell_type": "code",
      "execution_count": null,
      "metadata": {
        "id": "O5Ox1FIQqEYk"
      },
      "outputs": [],
      "source": [
        "data_to_clust"
      ]
    },
    {
      "cell_type": "code",
      "execution_count": null,
      "metadata": {
        "id": "2Gd5pZDNqIiU"
      },
      "outputs": [],
      "source": [
        "data_stat=new_data(data_to_clust,['mean rend', 'var', 'REND_semi_varience', 'REND_VaR_90',\n",
        "       'REND_CVaR_90', 'mean Close'])"
      ]
    },
    {
      "cell_type": "code",
      "execution_count": null,
      "metadata": {
        "id": "qiV18pdqqUhx"
      },
      "outputs": [],
      "source": [
        "data_stat"
      ]
    },
    {
      "cell_type": "code",
      "execution_count": null,
      "metadata": {
        "id": "F-5Jli3XoR2T"
      },
      "outputs": [],
      "source": [
        "data_fundamentalesc=ScaleMinMax(data_stat)\n",
        "data_fundamentalesc"
      ]
    },
    {
      "cell_type": "code",
      "execution_count": null,
      "metadata": {
        "id": "jemgruN6oVLA"
      },
      "outputs": [],
      "source": [
        "CAH(data_fundamentalesc),"
      ]
    },
    {
      "cell_type": "code",
      "execution_count": null,
      "metadata": {
        "id": "8Tk6rYFm4TqO"
      },
      "outputs": [],
      "source": [
        "nann=[\"Mont Belvieu LDH Propane (OPIS)\" , \"Orange Juice Jan 22\"]"
      ]
    },
    {
      "cell_type": "code",
      "execution_count": null,
      "metadata": {
        "id": "wLFVeQE64oAK"
      },
      "outputs": [],
      "source": [
        "commodities=commodities.drop(columns=nann)"
      ]
    },
    {
      "cell_type": "code",
      "execution_count": null,
      "metadata": {
        "id": "lUO5YChgvolv"
      },
      "outputs": [],
      "source": [
        "commodities\n",
        "commodities1=commodities.dropna()"
      ]
    },
    {
      "cell_type": "code",
      "execution_count": null,
      "metadata": {
        "id": "AraNSjnND8AP"
      },
      "outputs": [],
      "source": [
        "commodities1"
      ]
    },
    {
      "cell_type": "code",
      "execution_count": null,
      "metadata": {
        "id": "5ASnrOntCFhZ"
      },
      "outputs": [],
      "source": [
        "return_data.iloc[:21].index[-1]"
      ]
    },
    {
      "cell_type": "markdown",
      "metadata": {
        "id": "Z2Uoj7DGA2Ph"
      },
      "source": [
        "\n",
        "\n",
        "---\n",
        "\n"
      ]
    },
    {
      "cell_type": "markdown",
      "metadata": {
        "id": "-8aTBiumNLbT"
      },
      "source": [
        "# Data Eng"
      ]
    },
    {
      "cell_type": "code",
      "execution_count": null,
      "metadata": {
        "id": "__AhGMA6AQRH"
      },
      "outputs": [],
      "source": [
        "commodities"
      ]
    },
    {
      "cell_type": "code",
      "execution_count": null,
      "metadata": {
        "id": "pXQV24oNYBRu"
      },
      "outputs": [],
      "source": [
        "col_nan=[\"Mont Belvieu LDH Propane (OPIS)\", \"Orange Juice Jan 22\"]"
      ]
    },
    {
      "cell_type": "code",
      "execution_count": null,
      "metadata": {
        "id": "_W2-aZHhYBRv"
      },
      "outputs": [],
      "source": [
        "commodities.drop(columns=col_nan, inplace=True)"
      ]
    },
    {
      "cell_type": "code",
      "execution_count": null,
      "metadata": {
        "id": "ywaOF8yzYBRv"
      },
      "outputs": [],
      "source": [
        "commodities.dropna(inplace=True)"
      ]
    },
    {
      "cell_type": "code",
      "execution_count": null,
      "metadata": {
        "id": "btIrNtqqYBRv"
      },
      "outputs": [],
      "source": [
        "return_data=commodities.pct_change()\n",
        "return_data.dropna(inplace=True)"
      ]
    },
    {
      "cell_type": "code",
      "execution_count": null,
      "metadata": {
        "id": "nkExM63ZYDTs"
      },
      "outputs": [],
      "source": [
        "return_data"
      ]
    },
    {
      "cell_type": "code",
      "execution_count": null,
      "metadata": {
        "id": "fHIAUc1HB4lK"
      },
      "outputs": [],
      "source": [
        "def data_transform(dataaa):\n",
        "  correlations = dataaa.corr()\n",
        "  correlations[np.arange(correlations.shape[0])[:,None] > np.arange(correlations.shape[1])] = np.nan\n",
        "  ndf = correlations.unstack().to_frame().T\n",
        "\n",
        "  ndf.columns = ndf.columns.map('{0[0]}_{0[1]}'.format) \n",
        "  ndf.index=[dataaa.index[-1]]\n",
        "  ndf =ndf.dropna(axis=1)\n",
        "  return ndf"
      ]
    },
    {
      "cell_type": "code",
      "execution_count": null,
      "metadata": {
        "id": "qAp3-3UtCfqI"
      },
      "outputs": [],
      "source": [
        "return_data.iloc[:21]"
      ]
    },
    {
      "cell_type": "code",
      "execution_count": null,
      "metadata": {
        "id": "anIv27i-CSRY"
      },
      "outputs": [],
      "source": [
        "data_transform_test=data_transform(return_data.iloc[:21])\n",
        "data_transform_test"
      ]
    },
    {
      "cell_type": "code",
      "execution_count": null,
      "metadata": {
        "id": "IECKULzWDeYy"
      },
      "outputs": [],
      "source": [
        "def CAH(data):\n",
        "    fig = ff.create_dendrogram(data,\n",
        "                           linkagefun = lambda x: shc.linkage(x, \"ward\"),\n",
        "                           labels=data.index.to_list())\n",
        "\n",
        "    fig.update_layout(width=1000, height=1000)\n",
        "    fig.show()\n",
        "    "
      ]
    },
    {
      "cell_type": "code",
      "execution_count": null,
      "metadata": {
        "id": "FgU9gPGf4Kfp"
      },
      "outputs": [],
      "source": [
        "return_data"
      ]
    },
    {
      "cell_type": "code",
      "execution_count": null,
      "metadata": {
        "id": "dRdjJnao4IaJ"
      },
      "outputs": [],
      "source": [
        "dara_for_clust=pd.DataFrame()\n",
        "for i in range(0,return_data.shape[0]-22,21):\n",
        "  correlations = return_data.iloc[i:i+21].corr()\n",
        "  correlations[np.arange(correlations.shape[0])[:,None] > np.arange(correlations.shape[1])] = np.nan\n",
        "  ndf = correlations.unstack().to_frame().T\n",
        "  ndf.columns = ndf.columns.map('{0[0]}_{0[1]}'.format) \n",
        "  ndf.index=[return_data.iloc[i:i+21].index[-1]]\n",
        "  ndf=ndf.dropna(axis=1)\n",
        "  dara_for_clust=dara_for_clust.append(ndf)\n"
      ]
    },
    {
      "cell_type": "code",
      "execution_count": null,
      "metadata": {
        "id": "n3TYb-jwKH9O"
      },
      "outputs": [],
      "source": [
        "dara_for_clust"
      ]
    },
    {
      "cell_type": "code",
      "execution_count": null,
      "metadata": {
        "id": "WazlRLjlUgTw"
      },
      "outputs": [],
      "source": [
        "CAH(dara_for_clust)"
      ]
    },
    {
      "cell_type": "code",
      "execution_count": null,
      "metadata": {
        "id": "pxGr4Jeg6rqP"
      },
      "outputs": [],
      "source": [
        "from sklearn.cluster import AgglomerativeClustering\n",
        "from scipy.stats import pearsonr\n",
        "import numpy as np\n",
        "\n",
        "def pearson_affinity(M):\n",
        "   return 1 - np.array([[pearsonr(a,b)[0] for a in M] for b in M])\n",
        "\n",
        "   \n",
        "cluster = AgglomerativeClustering(n_clusters=4, affinity='euclidean', linkage='ward')\n",
        "cluster.fit_predict(dara_for_clust)\n"
      ]
    },
    {
      "cell_type": "code",
      "execution_count": null,
      "metadata": {
        "id": "6gBTVRmaqNOp"
      },
      "outputs": [],
      "source": [
        "data_with_label[data_with_label[\"classe\"]==3]"
      ]
    },
    {
      "cell_type": "code",
      "execution_count": null,
      "metadata": {
        "id": "UYVG7CuA65BZ"
      },
      "outputs": [],
      "source": [
        "data_with_label=pd.DataFrame()\n",
        "dataset = pd.DataFrame({'classe':cluster.labels_ }, index=dara_for_clust.index)\n",
        "frame=[dara_for_clust,dataset]\n",
        "data_with_label=pd.concat(frame, axis=1)\n",
        "data_with_label"
      ]
    },
    {
      "cell_type": "code",
      "execution_count": null,
      "metadata": {
        "id": "XVNZaWsZIdRG"
      },
      "outputs": [],
      "source": [
        "data_with_label[[\"Dow Futures_S&P Futures\"]]"
      ]
    },
    {
      "cell_type": "code",
      "execution_count": null,
      "metadata": {
        "id": "Twg4hxI4GOKV"
      },
      "outputs": [],
      "source": [
        "def barchart(data_with_label,label):\n",
        "  d=data_with_label[data_with_label[\"classe\"]==label].mean(axis=0).to_frame()\n",
        "  d=d.iloc[:-1,:]\n",
        "  d=d.reset_index()\n",
        "  fig = px.bar(d,x=\"index\", y=0)\n",
        "  fig.show()\n"
      ]
    },
    {
      "cell_type": "code",
      "execution_count": null,
      "metadata": {
        "id": "Sl6bnZRREkbj"
      },
      "outputs": [],
      "source": [
        "barchart(data_with_label,0)"
      ]
    },
    {
      "cell_type": "code",
      "execution_count": null,
      "metadata": {
        "id": "4LQBJci6FTAj"
      },
      "outputs": [],
      "source": [
        "barchart(data_with_label,1)"
      ]
    },
    {
      "cell_type": "code",
      "execution_count": null,
      "metadata": {
        "id": "qcAynaH7GmUU"
      },
      "outputs": [],
      "source": [
        "barchart(data_with_label,2)"
      ]
    },
    {
      "cell_type": "code",
      "execution_count": null,
      "metadata": {
        "id": "hgldy87WGpLD"
      },
      "outputs": [],
      "source": [
        "barchart(data_with_label,3)"
      ]
    },
    {
      "cell_type": "code",
      "execution_count": null,
      "metadata": {
        "colab": {
          "base_uri": "https://localhost:8080/",
          "height": 1000
        },
        "id": "cI6hDjy2JX5a",
        "outputId": "b7c7a57e-88ea-4abf-badc-b59f811aaabc"
      },
      "outputs": [],
      "source": [
        "# with regression\n",
        "sns_plot = sns.pairplot(correlations2, kind=\"reg\")"
      ]
    },
    {
      "cell_type": "code",
      "execution_count": null,
      "metadata": {
        "id": "3jh_7oycDHkV"
      },
      "outputs": [],
      "source": [
        "\n",
        "plt.figure(figsize=(15,10))\n",
        "correlations2 = return_data.loc[:\"2017-08-08\" ].iloc[-20:].corr()\n",
        "\n",
        "sns.heatmap(round(correlations2,2), cmap='RdBu', annot=True, \n",
        "            annot_kws={\"size\": 7}, vmin=-1, vmax=1);"
      ]
    },
    {
      "cell_type": "code",
      "execution_count": null,
      "metadata": {
        "id": "rtafXg6watbN"
      },
      "outputs": [],
      "source": [
        ""
      ]
    },
    {
      "cell_type": "markdown",
      "metadata": {
        "id": "pP7vnc0iatrG"
      },
      "source": [
        "# classe 0 CAH"
      ]
    },
    {
      "cell_type": "code",
      "execution_count": null,
      "metadata": {
        "id": "Plnk7t4ErT94"
      },
      "outputs": [],
      "source": [
        "data_with_label[data_with_label[\"classe\"]==0]"
      ]
    },
    {
      "cell_type": "code",
      "execution_count": null,
      "metadata": {
        "id": "uc4gETgtcxtm"
      },
      "outputs": [],
      "source": [
        "S_P500_CORL=data_with_label.iloc[:,-37:]"
      ]
    },
    {
      "cell_type": "code",
      "execution_count": null,
      "metadata": {
        "id": "moVrKntFcvQ4"
      },
      "outputs": [],
      "source": [
        "barchart(S_P500_CORL,0)"
      ]
    },
    {
      "cell_type": "code",
      "execution_count": null,
      "metadata": {
        "id": "pM8z11Fog2sE"
      },
      "outputs": [],
      "source": [
        "S_P500_CORL[S_P500_CORL[\"classe\"]==0]\n"
      ]
    },
    {
      "cell_type": "code",
      "execution_count": null,
      "metadata": {
        "id": "ipWGn5CP3PGJ"
      },
      "outputs": [],
      "source": [
        "def get_all_historical_data_from_each_cluster (data_with_label,return_data, cluster):\n",
        "    dr=data_with_label[data_with_label[\"classe\"]==cluster]\n",
        "    df7=pd.DataFrame()\n",
        "    for i in dr.index.to_list():\n",
        "      d1=return_data.loc[:i ].iloc[-20:]\n",
        "      df7=df7.append(d1)\n",
        "\n",
        "    return  df7 \n",
        "\n"
      ]
    },
    {
      "cell_type": "code",
      "execution_count": null,
      "metadata": {
        "id": "5OIXwWqY3qPS"
      },
      "outputs": [],
      "source": [
        "cluster_0=get_all_historical_data_from_each_cluster (data_with_label,return_data, 0)\n",
        "cluster_1=get_all_historical_data_from_each_cluster (data_with_label,return_data, 1)\n",
        "cluster_2=get_all_historical_data_from_each_cluster (data_with_label,return_data, 2)\n",
        "cluster_3=get_all_historical_data_from_each_cluster (data_with_label,return_data, 3)"
      ]
    },
    {
      "cell_type": "code",
      "execution_count": null,
      "metadata": {
        "id": "euQADjvF5re6"
      },
      "outputs": [],
      "source": [
        "import plotly.graph_objects as go\n",
        "\n",
        "import numpy as np\n",
        "\n",
        "\n",
        "fig = go.Figure()\n",
        "fig.add_trace(go.Histogram( x=cluster_0[\"S&P500\"]))\n",
        "fig.add_trace(go.Histogram( x=cluster_1[\"S&P500\"]))\n",
        "\n",
        "fig.add_trace(go.Histogram( x=cluster_2[\"S&P500\"]))\n",
        "fig.add_trace(go.Histogram( x=cluster_3[\"S&P500\"]))\n",
        "\n",
        "# Overlay both histograms\n",
        "fig.update_layout(barmode='overlay')\n",
        "# Reduce opacity to see both histograms\n",
        "fig.update_traces(opacity=0.75)\n",
        "fig.show()"
      ]
    },
    {
      "cell_type": "code",
      "execution_count": null,
      "metadata": {
        "id": "HsmyXkdLKf1H"
      },
      "outputs": [],
      "source": [
        "\n",
        "\n",
        "fig = go.Figure()\n",
        "\n",
        "fig.add_trace(go.Histogram( x=cluster_0[\"S&P500\"], cumulative_enabled=True))\n",
        "fig.add_trace(go.Histogram( x=cluster_1[\"S&P500\"], cumulative_enabled=True))\n",
        "\n",
        "fig.add_trace(go.Histogram( x=cluster_2[\"S&P500\"],cumulative_enabled=True))\n",
        "fig.add_trace(go.Histogram( x=cluster_3[\"S&P500\"],cumulative_enabled=True))\n",
        "\n",
        "# Overlay both histograms\n",
        "fig.update_layout(barmode='overlay')\n",
        "# Reduce opacity to see both histograms\n",
        "fig.update_traces(opacity=0.75)\n",
        "fig.show()\n"
      ]
    },
    {
      "cell_type": "code",
      "execution_count": null,
      "metadata": {
        "id": "yRyNkMBqC8XV"
      },
      "outputs": [],
      "source": [
        "barchart(S_P500_CORL,2)"
      ]
    },
    {
      "cell_type": "code",
      "execution_count": null,
      "metadata": {
        "id": "ad0FwJPaDDyM"
      },
      "outputs": [],
      "source": [
        "barchart(S_P500_CORL,0)"
      ]
    },
    {
      "cell_type": "code",
      "execution_count": null,
      "metadata": {
        "id": "Pf6YPFdmhDVn"
      },
      "outputs": [],
      "source": [
        "plt.figure(figsize=(15,10))\n",
        "correlations2 = cluster_0.corr()\n",
        "\n",
        "sns.heatmap(round(correlations2,2), cmap='RdBu', annot=True, \n",
        "            annot_kws={\"size\": 7}, vmin=-1, vmax=1);"
      ]
    },
    {
      "cell_type": "code",
      "execution_count": null,
      "metadata": {
        "colab": {
          "base_uri": "https://localhost:8080/",
          "height": 1000
        },
        "id": "r0lds9LRhN8f",
        "outputId": "e6cc72ea-099a-4e6b-f160-bec2565aeb00"
      },
      "outputs": [],
      "source": [
        "# with regression\n",
        "sns_plot = sns.pairplot(cluster_0)# kind=\"reg\")"
      ]
    },
    {
      "cell_type": "code",
      "execution_count": null,
      "metadata": {
        "id": "Gf7d0zYqgzrd"
      },
      "outputs": [],
      "source": [
        "# with regression\n",
        "sns_plot = sns.pairplot(return_data.loc[:\"2017-09-07\" ].iloc[-20:])# kind=\"reg\")"
      ]
    },
    {
      "cell_type": "code",
      "execution_count": null,
      "metadata": {
        "id": "QnOZU4kSm3co"
      },
      "outputs": [],
      "source": [
        ""
      ]
    },
    {
      "cell_type": "code",
      "execution_count": null,
      "metadata": {
        "id": "94cYLgbkmBn_"
      },
      "outputs": [],
      "source": [
        ""
      ]
    },
    {
      "cell_type": "code",
      "execution_count": null,
      "metadata": {
        "id": "7u0CRNg2dRNv"
      },
      "outputs": [],
      "source": [
        "barchart(S_P500_CORL,1)"
      ]
    },
    {
      "cell_type": "code",
      "execution_count": null,
      "metadata": {
        "id": "nIsUXP2Tddh0"
      },
      "outputs": [],
      "source": [
        "barchart(S_P500_CORL,2)"
      ]
    },
    {
      "cell_type": "code",
      "execution_count": null,
      "metadata": {
        "id": "eeZGACf5dh6N"
      },
      "outputs": [],
      "source": [
        "barchart(S_P500_CORL,3)"
      ]
    },
    {
      "cell_type": "code",
      "execution_count": null,
      "metadata": {
        "id": "KbXF-5gJe9qO"
      },
      "outputs": [],
      "source": [
        ""
      ]
    },
    {
      "cell_type": "code",
      "execution_count": null,
      "metadata": {
        "id": "BCuZxDgeaTrV"
      },
      "outputs": [],
      "source": [
        "  d=data_with_label[data_with_label[\"classe\"]==0].mean(axis=0).to_frame()\n",
        "  #d=d.reset_index()"
      ]
    },
    {
      "cell_type": "code",
      "execution_count": null,
      "metadata": {
        "id": "GW_A8ghAaVwM"
      },
      "outputs": [],
      "source": [
        "d.T"
      ]
    },
    {
      "cell_type": "code",
      "execution_count": null,
      "metadata": {
        "id": "wmRY7rJhFHRh"
      },
      "outputs": [],
      "source": [
        "data_transform_test=data_transform(return_data.iloc[:21])\n",
        "data_transform_test"
      ]
    },
    {
      "cell_type": "code",
      "execution_count": null,
      "metadata": {
        "id": "alEV36qiHu1y"
      },
      "outputs": [],
      "source": [
        "data_transform_test_2=data_transform_test.loc[:, ~(data_transform_test == 1).any()]"
      ]
    },
    {
      "cell_type": "code",
      "execution_count": null,
      "metadata": {
        "id": "yYa_wes7H0HY"
      },
      "outputs": [],
      "source": [
        "data_transform_test_2"
      ]
    },
    {
      "cell_type": "code",
      "execution_count": null,
      "metadata": {
        "id": "JiYH1VUDFUSI"
      },
      "outputs": [],
      "source": [
        "tt=data_transform_test_2.T"
      ]
    },
    {
      "cell_type": "code",
      "execution_count": null,
      "metadata": {
        "id": "srad_xPgFac4"
      },
      "outputs": [],
      "source": [
        "high_correlation=tt[tt[\"2017-08-08\"]>0.9]"
      ]
    },
    {
      "cell_type": "code",
      "execution_count": null,
      "metadata": {
        "id": "jLY5fjokPErr"
      },
      "outputs": [],
      "source": [
        "high_correlation"
      ]
    },
    {
      "cell_type": "code",
      "execution_count": null,
      "metadata": {
        "id": "P5VgnTeOPFq8"
      },
      "outputs": [],
      "source": [
        "high_correlation.index.to_list()"
      ]
    },
    {
      "cell_type": "code",
      "execution_count": null,
      "metadata": {
        "id": "i9RLJ6FaPJ8z"
      },
      "outputs": [],
      "source": [
        "list_hight_correlation_futures=[]\n",
        "for i in high_correlation.index.to_list():\n",
        "  a, sep, b = i.partition('_')\n",
        "  list_hight_correlation_futures.append(a)\n",
        "  list_hight_correlation_futures.append(b)\n",
        "\n"
      ]
    },
    {
      "cell_type": "code",
      "execution_count": null,
      "metadata": {
        "id": "tIfetgWmPcVz"
      },
      "outputs": [],
      "source": [
        "list_hight_correlation_futures"
      ]
    },
    {
      "cell_type": "code",
      "execution_count": null,
      "metadata": {
        "id": "N5O_JbwAQVmj"
      },
      "outputs": [],
      "source": [
        "return_data"
      ]
    },
    {
      "cell_type": "code",
      "execution_count": null,
      "metadata": {
        "id": "AOFpmH09PwBa"
      },
      "outputs": [],
      "source": [
        "return_data[list_hight_correlation_futures].mean(axis=0)"
      ]
    },
    {
      "cell_type": "code",
      "execution_count": null,
      "metadata": {
        "id": "1fzWcyJJOoWb"
      },
      "outputs": [],
      "source": [
        "a, sep, b = 'KC HRW Wheat Futures,Dec-2021_Corn Futures,Dec-2021'.partition('_')"
      ]
    },
    {
      "cell_type": "code",
      "execution_count": null,
      "metadata": {
        "id": "ZU1fh_HjOqA6"
      },
      "outputs": [],
      "source": [
        "b"
      ]
    },
    {
      "cell_type": "code",
      "execution_count": null,
      "metadata": {
        "id": "-emhz9hZFUX4"
      },
      "outputs": [],
      "source": [
        "import plotly.express as px\n",
        "\n",
        "fig = px.bar(tt, x=tt.index, y=\"2017-08-08\")\n",
        "fig.show()"
      ]
    },
    {
      "cell_type": "code",
      "execution_count": null,
      "metadata": {
        "id": "fovbpwDoBuVw"
      },
      "outputs": [],
      "source": [
        "j=data_transform_test.iloc[:,:] >0.09"
      ]
    },
    {
      "cell_type": "code",
      "execution_count": null,
      "metadata": {
        "id": "IhwjCZQbEiHQ"
      },
      "outputs": [],
      "source": [
        "j"
      ]
    },
    {
      "cell_type": "markdown",
      "metadata": {
        "id": "yoUMEgX6-Jo7"
      },
      "source": [
        "\n",
        "\n",
        "---\n",
        "\n"
      ]
    },
    {
      "cell_type": "code",
      "execution_count": null,
      "metadata": {
        "id": "T-qhrlQzCVXB"
      },
      "outputs": [],
      "source": [
        "dara_for_clust=pd.DataFrame()\n",
        "for i in range(return_data.shape[0]-22):\n",
        "  correlations = return_data.iloc[i:i+21].corr()\n",
        "  ndf = correlations.unstack().to_frame().T\n",
        "  ndf.columns = ndf.columns.map('{0[0]}_{0[1]}'.format) \n",
        "  ndf.index=[return_data.iloc[i:i+21].index[-1]]\n",
        "  dara_for_clust=dara_for_clust.append(ndf)\n",
        "\n"
      ]
    },
    {
      "cell_type": "code",
      "execution_count": null,
      "metadata": {
        "id": "YXinA6jRC8qZ"
      },
      "outputs": [],
      "source": [
        "dara_for_clust"
      ]
    },
    {
      "cell_type": "code",
      "execution_count": null,
      "metadata": {
        "id": "Ev5Ufje25QIa"
      },
      "outputs": [],
      "source": [
        ""
      ]
    },
    {
      "cell_type": "code",
      "execution_count": null,
      "metadata": {
        "id": "oaUxa5D9DSti"
      },
      "outputs": [],
      "source": [
        "CAH(dara_for_clust)"
      ]
    },
    {
      "cell_type": "code",
      "execution_count": null,
      "metadata": {
        "id": "aYd1tunMu34A"
      },
      "outputs": [],
      "source": [
        "plt.figure(figsize=(15,10))\n",
        "correlations = return_data.iloc[:21].corr()\n",
        "\n",
        "sns.heatmap(round(correlations,2), cmap='RdBu', annot=True, \n",
        "            annot_kws={\"size\": 7}, vmin=-1, vmax=1);"
      ]
    },
    {
      "cell_type": "code",
      "execution_count": null,
      "metadata": {
        "id": "2aNcSjsGyog4"
      },
      "outputs": [],
      "source": [
        "plt.figure(figsize=(15,10))\n",
        "correlations = return_data.iloc[21:42].corr()\n",
        "\n",
        "sns.heatmap(round(correlations,2), cmap='RdBu', annot=True, \n",
        "            annot_kws={\"size\": 7}, vmin=-1, vmax=1);"
      ]
    },
    {
      "cell_type": "code",
      "execution_count": null,
      "metadata": {
        "id": "HizHkckwyv6H"
      },
      "outputs": [],
      "source": [
        "plt.figure(figsize=(15,10))\n",
        "correlations = return_data.iloc[42:63].corr()\n",
        "\n",
        "sns.heatmap(round(correlations,2), cmap='RdBu', annot=True, \n",
        "            annot_kws={\"size\": 7}, vmin=-1, vmax=1);"
      ]
    },
    {
      "cell_type": "code",
      "execution_count": null,
      "metadata": {
        "id": "1RMeB-DHP7Y1"
      },
      "outputs": [],
      "source": [
        " return_data.iloc[42:63]"
      ]
    },
    {
      "cell_type": "markdown",
      "metadata": {
        "id": "yHOkA4DpPxR9"
      },
      "source": [
        "# correlation"
      ]
    },
    {
      "cell_type": "code",
      "execution_count": null,
      "metadata": {
        "id": "_2eUbeC4PvK_"
      },
      "outputs": [],
      "source": [
        "correlations = return_data.iloc[42:63].corr()"
      ]
    },
    {
      "cell_type": "code",
      "execution_count": null,
      "metadata": {
        "id": "STkWx_SbsbxE"
      },
      "outputs": [],
      "source": [
        "from scipy.cluster.hierarchy import linkage, dendrogram, fcluster\n",
        "from scipy.spatial.distance import squareform\n",
        "import math\n",
        "plt.figure(figsize=(12,5))\n",
        "\n",
        "dissimilarity =1/2*(1 - correlations)# np.sqrt( )\n",
        "Z = linkage(squareform(dissimilarity), 'complete')\n",
        "\n",
        "dendrogram(Z, labels=return_data.columns, orientation='top', \n",
        "           leaf_rotation=90);"
      ]
    },
    {
      "cell_type": "code",
      "execution_count": null,
      "metadata": {
        "id": "23phT0-6Qp33"
      },
      "outputs": [],
      "source": [
        "from sklearn.cluster import AgglomerativeClustering\n",
        "from scipy.stats import pearsonr\n",
        "import numpy as np\n",
        "\n",
        "def pearson_affinity(M):\n",
        "   return np.sqrt(0.5*(1 - np.array([[pearsonr(a,b)[0] for a in M] for b in M])))\n",
        "\n",
        "cluster = AgglomerativeClustering(n_clusters=7, linkage='average',\n",
        "                           affinity=pearson_affinity)\n",
        "cluster.fit_predict(return_data.iloc[42:63].T)\n",
        "\n",
        "\n",
        "#cluster = AgglomerativeClustering(n_clusters=7, affinity='euclidean', linkage='ward')\n",
        "#cluster.fit_predict(dara_for_clust)"
      ]
    },
    {
      "cell_type": "code",
      "execution_count": null,
      "metadata": {
        "id": "UEvjlSTeRHIH"
      },
      "outputs": [],
      "source": [
        "data_with_label=pd.DataFrame()\n",
        "dataset = pd.DataFrame({'classe':cluster.labels_ }, index=return_data.iloc[42:63].T.index)\n",
        "frame=[return_data.iloc[42:63].T,dataset]\n",
        "data_with_label=pd.concat(frame, axis=1)\n",
        "data_with_label"
      ]
    },
    {
      "cell_type": "markdown",
      "metadata": {
        "id": "KVSXe3HBUvz8"
      },
      "source": [
        "# cah with fractional_Differencing_data"
      ]
    },
    {
      "cell_type": "code",
      "execution_count": null,
      "metadata": {
        "id": "qh_Y065eVUuJ"
      },
      "outputs": [],
      "source": [
        "plt.figure(figsize=(15,10))\n",
        "correlations = fractional_Differencing_data.iloc[42:63].corr()\n",
        "\n",
        "sns.heatmap(round(correlations,2), cmap='RdBu', annot=True, \n",
        "            annot_kws={\"size\": 7}, vmin=-1, vmax=1);"
      ]
    },
    {
      "cell_type": "code",
      "execution_count": null,
      "metadata": {
        "id": "NjbrVoU_7Lwo"
      },
      "outputs": [],
      "source": [
        "fractional_Differencing_data=fractional_Differencing_data.dropna()\n",
        "dara_for_clust=pd.DataFrame()\n",
        "for i in range(fractional_Differencing_data.shape[0]-22):\n",
        "  correlations = fractional_Differencing_data.iloc[i:i+21].corr()\n",
        "  ndf = correlations.unstack().to_frame().T\n",
        "  ndf.columns = ndf.columns.map('{0[0]}_{0[1]}'.format) \n",
        "  ndf.index=[fractional_Differencing_data.iloc[i:i+21].index[-1]]\n",
        "  dara_for_clust=dara_for_clust.append(ndf)"
      ]
    },
    {
      "cell_type": "code",
      "execution_count": null,
      "metadata": {
        "id": "FOF7wFL0U65F"
      },
      "outputs": [],
      "source": [
        "CAH(dara_for_clust)"
      ]
    },
    {
      "cell_type": "code",
      "execution_count": null,
      "metadata": {
        "id": "hnrQiTT7XBHF"
      },
      "outputs": [],
      "source": [
        "fractional_Differencing_data.loc[\"2020-10-12\"].arg"
      ]
    },
    {
      "cell_type": "code",
      "execution_count": null,
      "metadata": {
        "id": "NOFUgdlidqkt"
      },
      "outputs": [],
      "source": [
        "plt.figure(figsize=(15,10))\n",
        "correlations = fractional_Differencing_data.loc[:\"2020-08-27\" ].iloc[-20:].corr()\n",
        "\n",
        "sns.heatmap(round(correlations,2), cmap='RdBu', annot=True, \n",
        "            annot_kws={\"size\": 7}, vmin=-1, vmax=1);"
      ]
    },
    {
      "cell_type": "code",
      "execution_count": null,
      "metadata": {
        "id": "l6U2QSKcamJt"
      },
      "outputs": [],
      "source": [
        "fractional_Differencing_data.iloc[1:21].index[-1]"
      ]
    },
    {
      "cell_type": "code",
      "execution_count": null,
      "metadata": {
        "id": "XUEvIjf7aUAt"
      },
      "outputs": [],
      "source": [
        "plt.figure(figsize=(15,10))\n",
        "correlations = fractional_Differencing_data.loc[:\"2020-04-15\" ].iloc[-20:].corr()\n",
        "\n",
        "sns.heatmap(round(correlations,2), cmap='RdBu', annot=True, \n",
        "            annot_kws={\"size\": 7}, vmin=-1, vmax=1);"
      ]
    },
    {
      "cell_type": "code",
      "execution_count": null,
      "metadata": {
        "id": "2tpNH2wJdJqG"
      },
      "outputs": [],
      "source": [
        "plt.figure(figsize=(15,10))\n",
        "correlations = fractional_Differencing_data.loc[:\"2020-10-16\" ].iloc[-20:].corr()\n",
        "\n",
        "sns.heatmap(round(correlations,2), cmap='RdBu', annot=True, \n",
        "            annot_kws={\"size\": 7}, vmin=-1, vmax=1);"
      ]
    },
    {
      "cell_type": "markdown",
      "metadata": {
        "id": "we_JYqQPgqjO"
      },
      "source": [
        "# HMM"
      ]
    },
    {
      "cell_type": "code",
      "execution_count": null,
      "metadata": {
        "id": "oiyhkx2ygxV-"
      },
      "outputs": [],
      "source": [
        "pip install --user git+https://github.com/hmmlearn/hmmlearn"
      ]
    },
    {
      "cell_type": "code",
      "execution_count": null,
      "metadata": {
        "id": "hY6EQ2s7mxiK"
      },
      "outputs": [],
      "source": [
        "pip install scikit-learn"
      ]
    },
    {
      "cell_type": "code",
      "execution_count": null,
      "metadata": {
        "id": "ozpk-_Kim21Z"
      },
      "outputs": [],
      "source": [
        "python setup.py build_ext --inplace"
      ]
    },
    {
      "cell_type": "code",
      "execution_count": null,
      "metadata": {
        "id": "53LWXMo7PKwX"
      },
      "outputs": [],
      "source": [
        "!pip install hmmlearn"
      ]
    },
    {
      "cell_type": "code",
      "execution_count": null,
      "metadata": {
        "id": "xhpjaIOlsYKl"
      },
      "outputs": [],
      "source": [
        "from hmmlearn.hmm import GaussianHMM\n"
      ]
    },
    {
      "cell_type": "code",
      "execution_count": null,
      "metadata": {
        "id": "BMagpDGRgsF1"
      },
      "outputs": [],
      "source": [
        "\"\"\"\n",
        "Sampling from HMM\n",
        "-----------------\n",
        "This script shows how to sample points from a Hidden Markov Model (HMM):\n",
        "we use a 4-state model with specified mean and covariance.\n",
        "The plot show the sequence of observations generated with the transitions\n",
        "between them. We can see that, as specified by our transition matrix,\n",
        "there are no transition between component 1 and 3.\n",
        "\"\"\"\n",
        "\n",
        "import numpy as np\n",
        "import matplotlib.pyplot as plt\n",
        "\n",
        "\n",
        "\n",
        "# Prepare parameters for a 4-components HMM\n",
        "# Initial population probability\n",
        "startprob = np.array([0.6, 0.3, 0.1, 0.0])\n",
        "# The transition matrix, note that there are no transitions possible\n",
        "# between component 1 and 3\n",
        "transmat = np.array([[0.7, 0.2, 0.0, 0.1],\n",
        "                     [0.3, 0.5, 0.2, 0.0],\n",
        "                     [0.0, 0.3, 0.5, 0.2],\n",
        "                     [0.2, 0.0, 0.2, 0.6]])\n",
        "# The means of each component\n",
        "means = np.array([[0.0,  0.0],\n",
        "                  [0.0, 11.0],\n",
        "                  [9.0, 10.0],\n",
        "                  [11.0, -1.0]])\n",
        "# The covariance of each component\n",
        "covars = .5 * np.tile(np.identity(2), (4, 1, 1))\n",
        "\n",
        "# Build an HMM instance and set parameters\n",
        "model = GaussianHMM(n_components=4, covariance_type=\"full\")\n",
        "\n",
        "# Instead of fitting it from the data, we directly set the estimated\n",
        "# parameters, the means and covariance of the components\n",
        "model.startprob_ = startprob\n",
        "model.transmat_ = transmat\n",
        "model.means_ = means\n",
        "model.covars_ = covars\n",
        "\n",
        "# Generate samples\n",
        "X, Z = model.sample(500)\n",
        "\n",
        "# Plot the sampled data\n",
        "plt.plot(X[:, 0], X[:, 1], \".-\", label=\"observations\", ms=6,\n",
        "         mfc=\"orange\", alpha=0.7)\n",
        "\n",
        "# Indicate the component numbers\n",
        "for i, m in enumerate(means):\n",
        "    plt.text(m[0], m[1], 'Component %i' % (i + 1),\n",
        "             size=17, horizontalalignment='center',\n",
        "             bbox=dict(alpha=.7, facecolor='w'))\n",
        "plt.legend(loc='best')\n",
        "plt.show()"
      ]
    },
    {
      "cell_type": "code",
      "execution_count": null,
      "metadata": {
        "id": "4E-UWeqnxt65"
      },
      "outputs": [],
      "source": [
        ""
      ]
    }
  ],
  "metadata": {
    "colab": {
      "collapsed_sections": [],
      "name": "Commodities.ipynb",
      "provenance": [],
      "toc_visible": true
    },
    "interpreter": {
      "hash": "cb6c904a1f2e57719f8cb7cba1736c34f7b2f29c89b9b4b1d9f67200abe38304"
    },
    "kernelspec": {
      "display_name": "Python 3.7.11 64-bit ('rag': conda)",
      "name": "python3"
    },
    "language_info": {
      "codemirror_mode": {
        "name": "ipython",
        "version": 3
      },
      "file_extension": ".py",
      "mimetype": "text/x-python",
      "name": "python",
      "nbconvert_exporter": "python",
      "pygments_lexer": "ipython3",
      "version": "3.7.11"
    }
  },
  "nbformat": 4,
  "nbformat_minor": 0
}